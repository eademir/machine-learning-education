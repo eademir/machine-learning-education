{
 "cells": [
  {
   "cell_type": "code",
   "execution_count": 27,
   "metadata": {},
   "outputs": [],
   "source": [
    "# Boosting\n",
    "# learning rate ---->  0.1 ile 0.3 arasında olması halinde iyi bir model olarak yorumlanır."
   ]
  },
  {
   "cell_type": "code",
   "execution_count": 28,
   "metadata": {},
   "outputs": [
    {
     "name": "stdout",
     "output_type": "stream",
     "text": [
      "Requirement already satisfied: xgboost in c:\\users\\eadem\\anaconda3\\lib\\site-packages (0.90)\n",
      "Requirement already satisfied: numpy in c:\\users\\eadem\\anaconda3\\lib\\site-packages (from xgboost) (1.16.4)\n",
      "Requirement already satisfied: scipy in c:\\users\\eadem\\anaconda3\\lib\\site-packages (from xgboost) (1.2.1)\n",
      "Requirement already satisfied: lightgbm in c:\\users\\eadem\\anaconda3\\lib\\site-packages (2.2.3)\n",
      "Requirement already satisfied: scikit-learn in c:\\users\\eadem\\anaconda3\\lib\\site-packages (from lightgbm) (0.21.2)\n",
      "Requirement already satisfied: scipy in c:\\users\\eadem\\anaconda3\\lib\\site-packages (from lightgbm) (1.2.1)\n",
      "Requirement already satisfied: numpy in c:\\users\\eadem\\anaconda3\\lib\\site-packages (from lightgbm) (1.16.4)\n",
      "Requirement already satisfied: joblib>=0.11 in c:\\users\\eadem\\anaconda3\\lib\\site-packages (from scikit-learn->lightgbm) (0.13.2)\n",
      "Requirement already satisfied: catboost in c:\\users\\eadem\\anaconda3\\lib\\site-packages (0.17.2)\n",
      "Requirement already satisfied: numpy>=1.16.0 in c:\\users\\eadem\\anaconda3\\lib\\site-packages (from catboost) (1.16.4)\n",
      "Requirement already satisfied: plotly in c:\\users\\eadem\\anaconda3\\lib\\site-packages (from catboost) (4.1.1)\n",
      "Requirement already satisfied: scipy in c:\\users\\eadem\\anaconda3\\lib\\site-packages (from catboost) (1.2.1)\n",
      "Requirement already satisfied: six in c:\\users\\eadem\\anaconda3\\lib\\site-packages (from catboost) (1.12.0)\n",
      "Requirement already satisfied: graphviz in c:\\users\\eadem\\anaconda3\\lib\\site-packages (from catboost) (0.13)\n",
      "Requirement already satisfied: matplotlib in c:\\users\\eadem\\anaconda3\\lib\\site-packages (from catboost) (3.1.0)\n",
      "Requirement already satisfied: pandas>=0.24.0 in c:\\users\\eadem\\anaconda3\\lib\\site-packages (from catboost) (0.24.2)\n",
      "Requirement already satisfied: retrying>=1.3.3 in c:\\users\\eadem\\anaconda3\\lib\\site-packages (from plotly->catboost) (1.3.3)\n",
      "Requirement already satisfied: cycler>=0.10 in c:\\users\\eadem\\anaconda3\\lib\\site-packages (from matplotlib->catboost) (0.10.0)\n",
      "Requirement already satisfied: kiwisolver>=1.0.1 in c:\\users\\eadem\\anaconda3\\lib\\site-packages (from matplotlib->catboost) (1.1.0)\n",
      "Requirement already satisfied: pyparsing!=2.0.4,!=2.1.2,!=2.1.6,>=2.0.1 in c:\\users\\eadem\\anaconda3\\lib\\site-packages (from matplotlib->catboost) (2.4.0)\n",
      "Requirement already satisfied: python-dateutil>=2.1 in c:\\users\\eadem\\anaconda3\\lib\\site-packages (from matplotlib->catboost) (2.8.0)\n",
      "Requirement already satisfied: pytz>=2011k in c:\\users\\eadem\\anaconda3\\lib\\site-packages (from pandas>=0.24.0->catboost) (2019.1)\n",
      "Requirement already satisfied: setuptools in c:\\users\\eadem\\anaconda3\\lib\\site-packages (from kiwisolver>=1.0.1->matplotlib->catboost) (41.0.1)\n"
     ]
    }
   ],
   "source": [
    "!pip install xgboost\n",
    "!pip install lightgbm\n",
    "!pip install catboost"
   ]
  },
  {
   "cell_type": "code",
   "execution_count": 29,
   "metadata": {},
   "outputs": [],
   "source": [
    "import numpy as np\n",
    "import pandas as pd \n",
    "import statsmodels.api as sm\n",
    "import statsmodels.formula.api as smf\n",
    "import seaborn as sns\n",
    "from sklearn.preprocessing import scale \n",
    "from sklearn.model_selection import train_test_split, GridSearchCV, cross_val_score\n",
    "from sklearn.metrics import confusion_matrix, accuracy_score, classification_report\n",
    "from sklearn.metrics import roc_auc_score,roc_curve\n",
    "import statsmodels.formula.api as smf\n",
    "import matplotlib.pyplot as plt\n",
    "from sklearn.neighbors import KNeighborsClassifier\n",
    "from sklearn.discriminant_analysis import LinearDiscriminantAnalysis\n",
    "from sklearn.linear_model import LogisticRegression\n",
    "from sklearn.svm import SVC\n",
    "from sklearn.naive_bayes import GaussianNB\n",
    "from sklearn import tree\n",
    "from sklearn.ensemble import RandomForestClassifier\n",
    "from sklearn.ensemble import GradientBoostingClassifier\n",
    "from xgboost import XGBClassifier\n",
    "from lightgbm import LGBMClassifier\n",
    "from catboost import CatBoostClassifier\n",
    "\n",
    "from warnings import filterwarnings\n",
    "filterwarnings('ignore')"
   ]
  },
  {
   "cell_type": "code",
   "execution_count": 30,
   "metadata": {},
   "outputs": [
    {
     "data": {
      "text/html": [
       "<div>\n",
       "<style scoped>\n",
       "    .dataframe tbody tr th:only-of-type {\n",
       "        vertical-align: middle;\n",
       "    }\n",
       "\n",
       "    .dataframe tbody tr th {\n",
       "        vertical-align: top;\n",
       "    }\n",
       "\n",
       "    .dataframe thead th {\n",
       "        text-align: right;\n",
       "    }\n",
       "</style>\n",
       "<table border=\"1\" class=\"dataframe\">\n",
       "  <thead>\n",
       "    <tr style=\"text-align: right;\">\n",
       "      <th></th>\n",
       "      <th>Pregnancies</th>\n",
       "      <th>Glucose</th>\n",
       "      <th>BloodPressure</th>\n",
       "      <th>SkinThickness</th>\n",
       "      <th>Insulin</th>\n",
       "      <th>BMI</th>\n",
       "      <th>DiabetesPedigreeFunction</th>\n",
       "      <th>Age</th>\n",
       "      <th>Outcome</th>\n",
       "    </tr>\n",
       "  </thead>\n",
       "  <tbody>\n",
       "    <tr>\n",
       "      <th>0</th>\n",
       "      <td>6</td>\n",
       "      <td>148</td>\n",
       "      <td>72</td>\n",
       "      <td>35</td>\n",
       "      <td>0</td>\n",
       "      <td>33.6</td>\n",
       "      <td>0.627</td>\n",
       "      <td>50</td>\n",
       "      <td>1</td>\n",
       "    </tr>\n",
       "    <tr>\n",
       "      <th>1</th>\n",
       "      <td>1</td>\n",
       "      <td>85</td>\n",
       "      <td>66</td>\n",
       "      <td>29</td>\n",
       "      <td>0</td>\n",
       "      <td>26.6</td>\n",
       "      <td>0.351</td>\n",
       "      <td>31</td>\n",
       "      <td>0</td>\n",
       "    </tr>\n",
       "    <tr>\n",
       "      <th>2</th>\n",
       "      <td>8</td>\n",
       "      <td>183</td>\n",
       "      <td>64</td>\n",
       "      <td>0</td>\n",
       "      <td>0</td>\n",
       "      <td>23.3</td>\n",
       "      <td>0.672</td>\n",
       "      <td>32</td>\n",
       "      <td>1</td>\n",
       "    </tr>\n",
       "    <tr>\n",
       "      <th>3</th>\n",
       "      <td>1</td>\n",
       "      <td>89</td>\n",
       "      <td>66</td>\n",
       "      <td>23</td>\n",
       "      <td>94</td>\n",
       "      <td>28.1</td>\n",
       "      <td>0.167</td>\n",
       "      <td>21</td>\n",
       "      <td>0</td>\n",
       "    </tr>\n",
       "    <tr>\n",
       "      <th>4</th>\n",
       "      <td>0</td>\n",
       "      <td>137</td>\n",
       "      <td>40</td>\n",
       "      <td>35</td>\n",
       "      <td>168</td>\n",
       "      <td>43.1</td>\n",
       "      <td>2.288</td>\n",
       "      <td>33</td>\n",
       "      <td>1</td>\n",
       "    </tr>\n",
       "  </tbody>\n",
       "</table>\n",
       "</div>"
      ],
      "text/plain": [
       "   Pregnancies  Glucose  BloodPressure  SkinThickness  Insulin   BMI  \\\n",
       "0            6      148             72             35        0  33.6   \n",
       "1            1       85             66             29        0  26.6   \n",
       "2            8      183             64              0        0  23.3   \n",
       "3            1       89             66             23       94  28.1   \n",
       "4            0      137             40             35      168  43.1   \n",
       "\n",
       "   DiabetesPedigreeFunction  Age  Outcome  \n",
       "0                     0.627   50        1  \n",
       "1                     0.351   31        0  \n",
       "2                     0.672   32        1  \n",
       "3                     0.167   21        0  \n",
       "4                     2.288   33        1  "
      ]
     },
     "execution_count": 30,
     "metadata": {},
     "output_type": "execute_result"
    }
   ],
   "source": [
    "diabetes = pd.read_csv (\"diabetes.csv\")\n",
    "df = diabetes.copy()\n",
    "df = df.dropna()\n",
    "df.head()"
   ]
  },
  {
   "cell_type": "code",
   "execution_count": 31,
   "metadata": {},
   "outputs": [],
   "source": [
    "y = df[\"Outcome\"]\n",
    "X = df.drop([\"Outcome\"], axis =1)\n",
    "X_train, X_test, y_train,y_test = train_test_split(X,y, test_size = 0.30, random_state =42)"
   ]
  },
  {
   "cell_type": "code",
   "execution_count": 32,
   "metadata": {},
   "outputs": [],
   "source": [
    "from sklearn.ensemble import GradientBoostingClassifier"
   ]
  },
  {
   "cell_type": "code",
   "execution_count": 33,
   "metadata": {},
   "outputs": [],
   "source": [
    "gbm_model = GradientBoostingClassifier ().fit (X_train, y_train)"
   ]
  },
  {
   "cell_type": "code",
   "execution_count": 34,
   "metadata": {},
   "outputs": [
    {
     "data": {
      "text/plain": [
       "0.7489177489177489"
      ]
     },
     "execution_count": 34,
     "metadata": {},
     "output_type": "execute_result"
    }
   ],
   "source": [
    "y_pred = gbm_model.predict(X_test)\n",
    "accuracy_score(y_test, y_pred)\n",
    "#  ?gbm_model"
   ]
  },
  {
   "cell_type": "code",
   "execution_count": 35,
   "metadata": {},
   "outputs": [],
   "source": [
    "gbm_params= {\"learning_rate\": [0.0001, 0.01, 0.1, 0.05], \"n_estimators\": [100,500,1000], \"max_depth\": [3,5,10],\"min_samples_split\": [2,5,10]}"
   ]
  },
  {
   "cell_type": "code",
   "execution_count": 36,
   "metadata": {},
   "outputs": [],
   "source": [
    "gbm = GradientBoostingClassifier()\n",
    "gbm_cv = GridSearchCV (gbm, gbm_params, cv =10, n_jobs= -1, verbose =5)"
   ]
  },
  {
   "cell_type": "code",
   "execution_count": 37,
   "metadata": {},
   "outputs": [
    {
     "name": "stdout",
     "output_type": "stream",
     "text": [
      "Fitting 10 folds for each of 108 candidates, totalling 1080 fits\n"
     ]
    },
    {
     "name": "stderr",
     "output_type": "stream",
     "text": [
      "[Parallel(n_jobs=-1)]: Using backend LokyBackend with 8 concurrent workers.\n",
      "[Parallel(n_jobs=-1)]: Done   2 tasks      | elapsed:    0.1s\n",
      "[Parallel(n_jobs=-1)]: Done  83 tasks      | elapsed:    7.3s\n",
      "[Parallel(n_jobs=-1)]: Done 173 tasks      | elapsed:   23.2s\n",
      "[Parallel(n_jobs=-1)]: Done 299 tasks      | elapsed:  1.0min\n",
      "[Parallel(n_jobs=-1)]: Done 461 tasks      | elapsed:  1.4min\n",
      "[Parallel(n_jobs=-1)]: Done 659 tasks      | elapsed:  2.2min\n",
      "[Parallel(n_jobs=-1)]: Done 893 tasks      | elapsed:  2.6min\n",
      "[Parallel(n_jobs=-1)]: Done 1080 out of 1080 | elapsed:  3.1min finished\n"
     ]
    },
    {
     "data": {
      "text/plain": [
       "GridSearchCV(cv=10, error_score='raise-deprecating',\n",
       "             estimator=GradientBoostingClassifier(criterion='friedman_mse',\n",
       "                                                  init=None, learning_rate=0.1,\n",
       "                                                  loss='deviance', max_depth=3,\n",
       "                                                  max_features=None,\n",
       "                                                  max_leaf_nodes=None,\n",
       "                                                  min_impurity_decrease=0.0,\n",
       "                                                  min_impurity_split=None,\n",
       "                                                  min_samples_leaf=1,\n",
       "                                                  min_samples_split=2,\n",
       "                                                  min_weight_fraction_leaf=0.0,\n",
       "                                                  n_estimators=100,\n",
       "                                                  n_iter_n...one,\n",
       "                                                  presort='auto',\n",
       "                                                  random_state=None,\n",
       "                                                  subsample=1.0, tol=0.0001,\n",
       "                                                  validation_fraction=0.1,\n",
       "                                                  verbose=0, warm_start=False),\n",
       "             iid='warn', n_jobs=-1,\n",
       "             param_grid={'learning_rate': [0.0001, 0.01, 0.1, 0.05],\n",
       "                         'max_depth': [3, 5, 10],\n",
       "                         'min_samples_split': [2, 5, 10],\n",
       "                         'n_estimators': [100, 500, 1000]},\n",
       "             pre_dispatch='2*n_jobs', refit=True, return_train_score=False,\n",
       "             scoring=None, verbose=5)"
      ]
     },
     "execution_count": 37,
     "metadata": {},
     "output_type": "execute_result"
    }
   ],
   "source": [
    "gbm_cv.fit(X_train, y_train)"
   ]
  },
  {
   "cell_type": "code",
   "execution_count": 38,
   "metadata": {},
   "outputs": [
    {
     "name": "stdout",
     "output_type": "stream",
     "text": [
      "En iyi parametreler: {'learning_rate': 0.01, 'max_depth': 3, 'min_samples_split': 5, 'n_estimators': 500}\n"
     ]
    }
   ],
   "source": [
    "print (\"En iyi parametreler: \" + str(gbm_cv.best_params_))"
   ]
  },
  {
   "cell_type": "code",
   "execution_count": 39,
   "metadata": {},
   "outputs": [],
   "source": [
    "gbm = GradientBoostingClassifier(learning_rate = 0.01, max_depth = 3, min_samples_split = 5, n_estimators = 500)"
   ]
  },
  {
   "cell_type": "code",
   "execution_count": 40,
   "metadata": {},
   "outputs": [],
   "source": [
    "gbm_tuned = gbm.fit(X_train, y_train)"
   ]
  },
  {
   "cell_type": "code",
   "execution_count": 41,
   "metadata": {},
   "outputs": [
    {
     "name": "stdout",
     "output_type": "stream",
     "text": [
      "              precision    recall  f1-score   support\n",
      "\n",
      "           0       0.82      0.79      0.81       151\n",
      "           1       0.63      0.66      0.65        80\n",
      "\n",
      "    accuracy                           0.75       231\n",
      "   macro avg       0.72      0.73      0.73       231\n",
      "weighted avg       0.75      0.75      0.75       231\n",
      "\n"
     ]
    }
   ],
   "source": [
    "print (classification_report(y_test, y_pred))"
   ]
  },
  {
   "cell_type": "code",
   "execution_count": 42,
   "metadata": {},
   "outputs": [],
   "source": [
    "df=diabetes.copy()\n",
    "df=df.dropna()\n",
    "y=df[\"Outcome\"]\n",
    "X=df.drop([\"Outcome\"],axis=1)\n",
    "X=pd.DataFrame(X)"
   ]
  },
  {
   "cell_type": "code",
   "execution_count": 43,
   "metadata": {},
   "outputs": [
    {
     "name": "stdout",
     "output_type": "stream",
     "text": [
      "Requirement already satisfied: xgboost in c:\\users\\eadem\\anaconda3\\lib\\site-packages (0.90)\n",
      "Requirement already satisfied: numpy in c:\\users\\eadem\\anaconda3\\lib\\site-packages (from xgboost) (1.16.4)\n",
      "Requirement already satisfied: scipy in c:\\users\\eadem\\anaconda3\\lib\\site-packages (from xgboost) (1.2.1)\n"
     ]
    }
   ],
   "source": [
    "!pip install xgboost"
   ]
  },
  {
   "cell_type": "code",
   "execution_count": 44,
   "metadata": {},
   "outputs": [],
   "source": [
    "from xgboost import XGBClassifier"
   ]
  },
  {
   "cell_type": "code",
   "execution_count": 45,
   "metadata": {},
   "outputs": [],
   "source": [
    "X_train,X_test,y_train,y_test=train_test_split(X,y,test_size=0.30,random_state=42)"
   ]
  },
  {
   "cell_type": "code",
   "execution_count": 46,
   "metadata": {},
   "outputs": [],
   "source": [
    "xgb_model = XGBClassifier().fit(X_train, y_train)"
   ]
  },
  {
   "cell_type": "code",
   "execution_count": 47,
   "metadata": {},
   "outputs": [
    {
     "data": {
      "text/plain": [
       "XGBClassifier(base_score=0.5, booster='gbtree', colsample_bylevel=1,\n",
       "              colsample_bynode=1, colsample_bytree=1, gamma=0,\n",
       "              learning_rate=0.1, max_delta_step=0, max_depth=3,\n",
       "              min_child_weight=1, missing=None, n_estimators=100, n_jobs=1,\n",
       "              nthread=None, objective='binary:logistic', random_state=0,\n",
       "              reg_alpha=0, reg_lambda=1, scale_pos_weight=1, seed=None,\n",
       "              silent=None, subsample=1, verbosity=1)"
      ]
     },
     "execution_count": 47,
     "metadata": {},
     "output_type": "execute_result"
    }
   ],
   "source": [
    "xgb_model"
   ]
  },
  {
   "cell_type": "code",
   "execution_count": 48,
   "metadata": {},
   "outputs": [
    {
     "data": {
      "text/plain": [
       "0.7489177489177489"
      ]
     },
     "execution_count": 48,
     "metadata": {},
     "output_type": "execute_result"
    }
   ],
   "source": [
    "y_pred = xgb_model.predict(X_test)\n",
    "accuracy_score(y_test, y_pred)"
   ]
  },
  {
   "cell_type": "code",
   "execution_count": 49,
   "metadata": {},
   "outputs": [
    {
     "name": "stdout",
     "output_type": "stream",
     "text": [
      "              precision    recall  f1-score   support\n",
      "\n",
      "           0       0.83      0.77      0.80       151\n",
      "           1       0.62      0.70      0.66        80\n",
      "\n",
      "    accuracy                           0.75       231\n",
      "   macro avg       0.73      0.74      0.73       231\n",
      "weighted avg       0.76      0.75      0.75       231\n",
      "\n"
     ]
    }
   ],
   "source": [
    "print (classification_report(y_test, y_pred))"
   ]
  },
  {
   "cell_type": "code",
   "execution_count": 50,
   "metadata": {},
   "outputs": [],
   "source": [
    "xgb_params = {\n",
    "    \"n_estimators\": [100, 500, 1000, 2000],\n",
    "    \"subsample\": [0.6, 0.8, 1.0],\n",
    "    \"max_depth\": [3, 4, 5, 6],\n",
    "    \"learning_rate\": [0.1, 0.01, 0.02, 0.05],\n",
    "    \"min_samples_split\": [2, 5, 10]\n",
    "}"
   ]
  },
  {
   "cell_type": "code",
   "execution_count": 51,
   "metadata": {},
   "outputs": [],
   "source": [
    "xgb = XGBClassifier()\n",
    "xgb_cv_model = GridSearchCV(xgb, xgb_params, cv = 10, n_jobs = -1, verbose = 2)"
   ]
  },
  {
   "cell_type": "code",
   "execution_count": 52,
   "metadata": {},
   "outputs": [
    {
     "name": "stdout",
     "output_type": "stream",
     "text": [
      "Fitting 10 folds for each of 576 candidates, totalling 5760 fits\n"
     ]
    },
    {
     "name": "stderr",
     "output_type": "stream",
     "text": [
      "[Parallel(n_jobs=-1)]: Using backend LokyBackend with 8 concurrent workers.\n",
      "[Parallel(n_jobs=-1)]: Done  25 tasks      | elapsed:    9.5s\n",
      "[Parallel(n_jobs=-1)]: Done 146 tasks      | elapsed:   38.2s\n",
      "[Parallel(n_jobs=-1)]: Done 349 tasks      | elapsed:  1.5min\n"
     ]
    },
    {
     "ename": "KeyboardInterrupt",
     "evalue": "",
     "output_type": "error",
     "traceback": [
      "\u001b[1;31m---------------------------------------------------------------------------\u001b[0m",
      "\u001b[1;31mKeyboardInterrupt\u001b[0m                         Traceback (most recent call last)",
      "\u001b[1;32m<ipython-input-52-0fb4a7c773e4>\u001b[0m in \u001b[0;36m<module>\u001b[1;34m\u001b[0m\n\u001b[1;32m----> 1\u001b[1;33m \u001b[0mxgb_cv_model\u001b[0m\u001b[1;33m.\u001b[0m\u001b[0mfit\u001b[0m\u001b[1;33m(\u001b[0m\u001b[0mX_train\u001b[0m\u001b[1;33m,\u001b[0m \u001b[0my_train\u001b[0m\u001b[1;33m)\u001b[0m\u001b[1;33m\u001b[0m\u001b[1;33m\u001b[0m\u001b[0m\n\u001b[0m",
      "\u001b[1;32m~\\Anaconda3\\lib\\site-packages\\sklearn\\model_selection\\_search.py\u001b[0m in \u001b[0;36mfit\u001b[1;34m(self, X, y, groups, **fit_params)\u001b[0m\n\u001b[0;32m    685\u001b[0m                 \u001b[1;32mreturn\u001b[0m \u001b[0mresults\u001b[0m\u001b[1;33m\u001b[0m\u001b[1;33m\u001b[0m\u001b[0m\n\u001b[0;32m    686\u001b[0m \u001b[1;33m\u001b[0m\u001b[0m\n\u001b[1;32m--> 687\u001b[1;33m             \u001b[0mself\u001b[0m\u001b[1;33m.\u001b[0m\u001b[0m_run_search\u001b[0m\u001b[1;33m(\u001b[0m\u001b[0mevaluate_candidates\u001b[0m\u001b[1;33m)\u001b[0m\u001b[1;33m\u001b[0m\u001b[1;33m\u001b[0m\u001b[0m\n\u001b[0m\u001b[0;32m    688\u001b[0m \u001b[1;33m\u001b[0m\u001b[0m\n\u001b[0;32m    689\u001b[0m         \u001b[1;31m# For multi-metric evaluation, store the best_index_, best_params_ and\u001b[0m\u001b[1;33m\u001b[0m\u001b[1;33m\u001b[0m\u001b[1;33m\u001b[0m\u001b[0m\n",
      "\u001b[1;32m~\\Anaconda3\\lib\\site-packages\\sklearn\\model_selection\\_search.py\u001b[0m in \u001b[0;36m_run_search\u001b[1;34m(self, evaluate_candidates)\u001b[0m\n\u001b[0;32m   1146\u001b[0m     \u001b[1;32mdef\u001b[0m \u001b[0m_run_search\u001b[0m\u001b[1;33m(\u001b[0m\u001b[0mself\u001b[0m\u001b[1;33m,\u001b[0m \u001b[0mevaluate_candidates\u001b[0m\u001b[1;33m)\u001b[0m\u001b[1;33m:\u001b[0m\u001b[1;33m\u001b[0m\u001b[1;33m\u001b[0m\u001b[0m\n\u001b[0;32m   1147\u001b[0m         \u001b[1;34m\"\"\"Search all candidates in param_grid\"\"\"\u001b[0m\u001b[1;33m\u001b[0m\u001b[1;33m\u001b[0m\u001b[0m\n\u001b[1;32m-> 1148\u001b[1;33m         \u001b[0mevaluate_candidates\u001b[0m\u001b[1;33m(\u001b[0m\u001b[0mParameterGrid\u001b[0m\u001b[1;33m(\u001b[0m\u001b[0mself\u001b[0m\u001b[1;33m.\u001b[0m\u001b[0mparam_grid\u001b[0m\u001b[1;33m)\u001b[0m\u001b[1;33m)\u001b[0m\u001b[1;33m\u001b[0m\u001b[1;33m\u001b[0m\u001b[0m\n\u001b[0m\u001b[0;32m   1149\u001b[0m \u001b[1;33m\u001b[0m\u001b[0m\n\u001b[0;32m   1150\u001b[0m \u001b[1;33m\u001b[0m\u001b[0m\n",
      "\u001b[1;32m~\\Anaconda3\\lib\\site-packages\\sklearn\\model_selection\\_search.py\u001b[0m in \u001b[0;36mevaluate_candidates\u001b[1;34m(candidate_params)\u001b[0m\n\u001b[0;32m    664\u001b[0m                                \u001b[1;32mfor\u001b[0m \u001b[0mparameters\u001b[0m\u001b[1;33m,\u001b[0m \u001b[1;33m(\u001b[0m\u001b[0mtrain\u001b[0m\u001b[1;33m,\u001b[0m \u001b[0mtest\u001b[0m\u001b[1;33m)\u001b[0m\u001b[1;33m\u001b[0m\u001b[1;33m\u001b[0m\u001b[0m\n\u001b[0;32m    665\u001b[0m                                in product(candidate_params,\n\u001b[1;32m--> 666\u001b[1;33m                                           cv.split(X, y, groups)))\n\u001b[0m\u001b[0;32m    667\u001b[0m \u001b[1;33m\u001b[0m\u001b[0m\n\u001b[0;32m    668\u001b[0m                 \u001b[1;32mif\u001b[0m \u001b[0mlen\u001b[0m\u001b[1;33m(\u001b[0m\u001b[0mout\u001b[0m\u001b[1;33m)\u001b[0m \u001b[1;33m<\u001b[0m \u001b[1;36m1\u001b[0m\u001b[1;33m:\u001b[0m\u001b[1;33m\u001b[0m\u001b[1;33m\u001b[0m\u001b[0m\n",
      "\u001b[1;32m~\\Anaconda3\\lib\\site-packages\\joblib\\parallel.py\u001b[0m in \u001b[0;36m__call__\u001b[1;34m(self, iterable)\u001b[0m\n\u001b[0;32m    932\u001b[0m \u001b[1;33m\u001b[0m\u001b[0m\n\u001b[0;32m    933\u001b[0m             \u001b[1;32mwith\u001b[0m \u001b[0mself\u001b[0m\u001b[1;33m.\u001b[0m\u001b[0m_backend\u001b[0m\u001b[1;33m.\u001b[0m\u001b[0mretrieval_context\u001b[0m\u001b[1;33m(\u001b[0m\u001b[1;33m)\u001b[0m\u001b[1;33m:\u001b[0m\u001b[1;33m\u001b[0m\u001b[1;33m\u001b[0m\u001b[0m\n\u001b[1;32m--> 934\u001b[1;33m                 \u001b[0mself\u001b[0m\u001b[1;33m.\u001b[0m\u001b[0mretrieve\u001b[0m\u001b[1;33m(\u001b[0m\u001b[1;33m)\u001b[0m\u001b[1;33m\u001b[0m\u001b[1;33m\u001b[0m\u001b[0m\n\u001b[0m\u001b[0;32m    935\u001b[0m             \u001b[1;31m# Make sure that we get a last message telling us we are done\u001b[0m\u001b[1;33m\u001b[0m\u001b[1;33m\u001b[0m\u001b[1;33m\u001b[0m\u001b[0m\n\u001b[0;32m    936\u001b[0m             \u001b[0melapsed_time\u001b[0m \u001b[1;33m=\u001b[0m \u001b[0mtime\u001b[0m\u001b[1;33m.\u001b[0m\u001b[0mtime\u001b[0m\u001b[1;33m(\u001b[0m\u001b[1;33m)\u001b[0m \u001b[1;33m-\u001b[0m \u001b[0mself\u001b[0m\u001b[1;33m.\u001b[0m\u001b[0m_start_time\u001b[0m\u001b[1;33m\u001b[0m\u001b[1;33m\u001b[0m\u001b[0m\n",
      "\u001b[1;32m~\\Anaconda3\\lib\\site-packages\\joblib\\parallel.py\u001b[0m in \u001b[0;36mretrieve\u001b[1;34m(self)\u001b[0m\n\u001b[0;32m    831\u001b[0m             \u001b[1;32mtry\u001b[0m\u001b[1;33m:\u001b[0m\u001b[1;33m\u001b[0m\u001b[1;33m\u001b[0m\u001b[0m\n\u001b[0;32m    832\u001b[0m                 \u001b[1;32mif\u001b[0m \u001b[0mgetattr\u001b[0m\u001b[1;33m(\u001b[0m\u001b[0mself\u001b[0m\u001b[1;33m.\u001b[0m\u001b[0m_backend\u001b[0m\u001b[1;33m,\u001b[0m \u001b[1;34m'supports_timeout'\u001b[0m\u001b[1;33m,\u001b[0m \u001b[1;32mFalse\u001b[0m\u001b[1;33m)\u001b[0m\u001b[1;33m:\u001b[0m\u001b[1;33m\u001b[0m\u001b[1;33m\u001b[0m\u001b[0m\n\u001b[1;32m--> 833\u001b[1;33m                     \u001b[0mself\u001b[0m\u001b[1;33m.\u001b[0m\u001b[0m_output\u001b[0m\u001b[1;33m.\u001b[0m\u001b[0mextend\u001b[0m\u001b[1;33m(\u001b[0m\u001b[0mjob\u001b[0m\u001b[1;33m.\u001b[0m\u001b[0mget\u001b[0m\u001b[1;33m(\u001b[0m\u001b[0mtimeout\u001b[0m\u001b[1;33m=\u001b[0m\u001b[0mself\u001b[0m\u001b[1;33m.\u001b[0m\u001b[0mtimeout\u001b[0m\u001b[1;33m)\u001b[0m\u001b[1;33m)\u001b[0m\u001b[1;33m\u001b[0m\u001b[1;33m\u001b[0m\u001b[0m\n\u001b[0m\u001b[0;32m    834\u001b[0m                 \u001b[1;32melse\u001b[0m\u001b[1;33m:\u001b[0m\u001b[1;33m\u001b[0m\u001b[1;33m\u001b[0m\u001b[0m\n\u001b[0;32m    835\u001b[0m                     \u001b[0mself\u001b[0m\u001b[1;33m.\u001b[0m\u001b[0m_output\u001b[0m\u001b[1;33m.\u001b[0m\u001b[0mextend\u001b[0m\u001b[1;33m(\u001b[0m\u001b[0mjob\u001b[0m\u001b[1;33m.\u001b[0m\u001b[0mget\u001b[0m\u001b[1;33m(\u001b[0m\u001b[1;33m)\u001b[0m\u001b[1;33m)\u001b[0m\u001b[1;33m\u001b[0m\u001b[1;33m\u001b[0m\u001b[0m\n",
      "\u001b[1;32m~\\Anaconda3\\lib\\site-packages\\joblib\\_parallel_backends.py\u001b[0m in \u001b[0;36mwrap_future_result\u001b[1;34m(future, timeout)\u001b[0m\n\u001b[0;32m    519\u001b[0m         AsyncResults.get from multiprocessing.\"\"\"\n\u001b[0;32m    520\u001b[0m         \u001b[1;32mtry\u001b[0m\u001b[1;33m:\u001b[0m\u001b[1;33m\u001b[0m\u001b[1;33m\u001b[0m\u001b[0m\n\u001b[1;32m--> 521\u001b[1;33m             \u001b[1;32mreturn\u001b[0m \u001b[0mfuture\u001b[0m\u001b[1;33m.\u001b[0m\u001b[0mresult\u001b[0m\u001b[1;33m(\u001b[0m\u001b[0mtimeout\u001b[0m\u001b[1;33m=\u001b[0m\u001b[0mtimeout\u001b[0m\u001b[1;33m)\u001b[0m\u001b[1;33m\u001b[0m\u001b[1;33m\u001b[0m\u001b[0m\n\u001b[0m\u001b[0;32m    522\u001b[0m         \u001b[1;32mexcept\u001b[0m \u001b[0mLokyTimeoutError\u001b[0m\u001b[1;33m:\u001b[0m\u001b[1;33m\u001b[0m\u001b[1;33m\u001b[0m\u001b[0m\n\u001b[0;32m    523\u001b[0m             \u001b[1;32mraise\u001b[0m \u001b[0mTimeoutError\u001b[0m\u001b[1;33m(\u001b[0m\u001b[1;33m)\u001b[0m\u001b[1;33m\u001b[0m\u001b[1;33m\u001b[0m\u001b[0m\n",
      "\u001b[1;32m~\\Anaconda3\\lib\\concurrent\\futures\\_base.py\u001b[0m in \u001b[0;36mresult\u001b[1;34m(self, timeout)\u001b[0m\n\u001b[0;32m    425\u001b[0m                 \u001b[1;32mreturn\u001b[0m \u001b[0mself\u001b[0m\u001b[1;33m.\u001b[0m\u001b[0m__get_result\u001b[0m\u001b[1;33m(\u001b[0m\u001b[1;33m)\u001b[0m\u001b[1;33m\u001b[0m\u001b[1;33m\u001b[0m\u001b[0m\n\u001b[0;32m    426\u001b[0m \u001b[1;33m\u001b[0m\u001b[0m\n\u001b[1;32m--> 427\u001b[1;33m             \u001b[0mself\u001b[0m\u001b[1;33m.\u001b[0m\u001b[0m_condition\u001b[0m\u001b[1;33m.\u001b[0m\u001b[0mwait\u001b[0m\u001b[1;33m(\u001b[0m\u001b[0mtimeout\u001b[0m\u001b[1;33m)\u001b[0m\u001b[1;33m\u001b[0m\u001b[1;33m\u001b[0m\u001b[0m\n\u001b[0m\u001b[0;32m    428\u001b[0m \u001b[1;33m\u001b[0m\u001b[0m\n\u001b[0;32m    429\u001b[0m             \u001b[1;32mif\u001b[0m \u001b[0mself\u001b[0m\u001b[1;33m.\u001b[0m\u001b[0m_state\u001b[0m \u001b[1;32min\u001b[0m \u001b[1;33m[\u001b[0m\u001b[0mCANCELLED\u001b[0m\u001b[1;33m,\u001b[0m \u001b[0mCANCELLED_AND_NOTIFIED\u001b[0m\u001b[1;33m]\u001b[0m\u001b[1;33m:\u001b[0m\u001b[1;33m\u001b[0m\u001b[1;33m\u001b[0m\u001b[0m\n",
      "\u001b[1;32m~\\Anaconda3\\lib\\threading.py\u001b[0m in \u001b[0;36mwait\u001b[1;34m(self, timeout)\u001b[0m\n\u001b[0;32m    294\u001b[0m         \u001b[1;32mtry\u001b[0m\u001b[1;33m:\u001b[0m    \u001b[1;31m# restore state no matter what (e.g., KeyboardInterrupt)\u001b[0m\u001b[1;33m\u001b[0m\u001b[1;33m\u001b[0m\u001b[0m\n\u001b[0;32m    295\u001b[0m             \u001b[1;32mif\u001b[0m \u001b[0mtimeout\u001b[0m \u001b[1;32mis\u001b[0m \u001b[1;32mNone\u001b[0m\u001b[1;33m:\u001b[0m\u001b[1;33m\u001b[0m\u001b[1;33m\u001b[0m\u001b[0m\n\u001b[1;32m--> 296\u001b[1;33m                 \u001b[0mwaiter\u001b[0m\u001b[1;33m.\u001b[0m\u001b[0macquire\u001b[0m\u001b[1;33m(\u001b[0m\u001b[1;33m)\u001b[0m\u001b[1;33m\u001b[0m\u001b[1;33m\u001b[0m\u001b[0m\n\u001b[0m\u001b[0;32m    297\u001b[0m                 \u001b[0mgotit\u001b[0m \u001b[1;33m=\u001b[0m \u001b[1;32mTrue\u001b[0m\u001b[1;33m\u001b[0m\u001b[1;33m\u001b[0m\u001b[0m\n\u001b[0;32m    298\u001b[0m             \u001b[1;32melse\u001b[0m\u001b[1;33m:\u001b[0m\u001b[1;33m\u001b[0m\u001b[1;33m\u001b[0m\u001b[0m\n",
      "\u001b[1;31mKeyboardInterrupt\u001b[0m: "
     ]
    }
   ],
   "source": [
    "xgb_cv_model.fit(X_train, y_train)"
   ]
  },
  {
   "cell_type": "code",
   "execution_count": null,
   "metadata": {},
   "outputs": [],
   "source": [
    "xgb_cv_model.best_params_"
   ]
  },
  {
   "cell_type": "code",
   "execution_count": null,
   "metadata": {},
   "outputs": [],
   "source": [
    "xgb = XGBClassifier(learning_rate = 0.01, max_depth = 3, min_samples_split = 2, n_estimators = 100, subsample = 1.0)"
   ]
  },
  {
   "cell_type": "code",
   "execution_count": null,
   "metadata": {},
   "outputs": [],
   "source": [
    "xgb_tuned = xgb.fit(X_train, y_train)"
   ]
  },
  {
   "cell_type": "code",
   "execution_count": null,
   "metadata": {},
   "outputs": [],
   "source": [
    "y_pred = xgb_tuned.predict(X_test)\n",
    "accuracy_score(y_test, y_pred)"
   ]
  },
  {
   "cell_type": "code",
   "execution_count": 53,
   "metadata": {},
   "outputs": [],
   "source": [
    "from lightgbm import LGBMClassifier"
   ]
  },
  {
   "cell_type": "code",
   "execution_count": 54,
   "metadata": {},
   "outputs": [],
   "source": [
    "lgbm_model = LGBMClassifier().fit(X_train, y_train)"
   ]
  },
  {
   "cell_type": "code",
   "execution_count": 55,
   "metadata": {},
   "outputs": [
    {
     "data": {
      "text/plain": [
       "0.7272727272727273"
      ]
     },
     "execution_count": 55,
     "metadata": {},
     "output_type": "execute_result"
    }
   ],
   "source": [
    "y_pred = lgbm_model.predict(X_test)\n",
    "accuracy_score(y_test, y_pred)"
   ]
  },
  {
   "cell_type": "code",
   "execution_count": 56,
   "metadata": {},
   "outputs": [
    {
     "data": {
      "text/plain": [
       "LGBMClassifier(boosting_type='gbdt', class_weight=None, colsample_bytree=1.0,\n",
       "               importance_type='split', learning_rate=0.1, max_depth=-1,\n",
       "               min_child_samples=20, min_child_weight=0.001, min_split_gain=0.0,\n",
       "               n_estimators=100, n_jobs=-1, num_leaves=31, objective=None,\n",
       "               random_state=None, reg_alpha=0.0, reg_lambda=0.0, silent=True,\n",
       "               subsample=1.0, subsample_for_bin=200000, subsample_freq=0)"
      ]
     },
     "execution_count": 56,
     "metadata": {},
     "output_type": "execute_result"
    }
   ],
   "source": [
    "lgbm_model"
   ]
  },
  {
   "cell_type": "code",
   "execution_count": 57,
   "metadata": {},
   "outputs": [],
   "source": [
    "lgbm_params = {\n",
    "    \"n_estimators\": [100, 500, 1000, 2000],\n",
    "    \"subsample\": [0.6, 0.8, 1.0],\n",
    "    \"max_depth\": [3, 4, 5, 6],\n",
    "    \"learning_rate\": [0.1, 0.01, 0.02, 0.05],\n",
    "    \"min_child_samples\": [5, 10, 20]\n",
    "}"
   ]
  },
  {
   "cell_type": "code",
   "execution_count": 58,
   "metadata": {},
   "outputs": [],
   "source": [
    "lgbm = LGBMClassifier()\n",
    "lgbm_cv_models = GridSearchCV(lgbm, lgbm_params, cv = 10, n_jobs = -1, verbose = 2)"
   ]
  },
  {
   "cell_type": "code",
   "execution_count": 60,
   "metadata": {},
   "outputs": [
    {
     "name": "stdout",
     "output_type": "stream",
     "text": [
      "Fitting 10 folds for each of 576 candidates, totalling 5760 fits\n"
     ]
    },
    {
     "name": "stderr",
     "output_type": "stream",
     "text": [
      "[Parallel(n_jobs=-1)]: Using backend LokyBackend with 8 concurrent workers.\n",
      "[Parallel(n_jobs=-1)]: Done  25 tasks      | elapsed:    3.4s\n",
      "[Parallel(n_jobs=-1)]: Done 146 tasks      | elapsed:    9.2s\n",
      "[Parallel(n_jobs=-1)]: Done 349 tasks      | elapsed:   19.6s\n",
      "[Parallel(n_jobs=-1)]: Done 632 tasks      | elapsed:   34.7s\n",
      "[Parallel(n_jobs=-1)]: Done 997 tasks      | elapsed:   57.3s\n",
      "[Parallel(n_jobs=-1)]: Done 1442 tasks      | elapsed:  1.5min\n",
      "[Parallel(n_jobs=-1)]: Done 1969 tasks      | elapsed:  1.9min\n",
      "[Parallel(n_jobs=-1)]: Done 2576 tasks      | elapsed:  2.8min\n",
      "[Parallel(n_jobs=-1)]: Done 3265 tasks      | elapsed:  3.7min\n",
      "[Parallel(n_jobs=-1)]: Done 4034 tasks      | elapsed:  4.7min\n",
      "[Parallel(n_jobs=-1)]: Done 4885 tasks      | elapsed:  5.7min\n",
      "[Parallel(n_jobs=-1)]: Done 5760 out of 5760 | elapsed:  6.9min finished\n"
     ]
    },
    {
     "data": {
      "text/plain": [
       "GridSearchCV(cv=10, error_score='raise-deprecating',\n",
       "             estimator=LGBMClassifier(boosting_type='gbdt', class_weight=None,\n",
       "                                      colsample_bytree=1.0,\n",
       "                                      importance_type='split',\n",
       "                                      learning_rate=0.1, max_depth=-1,\n",
       "                                      min_child_samples=20,\n",
       "                                      min_child_weight=0.001,\n",
       "                                      min_split_gain=0.0, n_estimators=100,\n",
       "                                      n_jobs=-1, num_leaves=31, objective=None,\n",
       "                                      random_state=None, reg_alpha=0.0,\n",
       "                                      reg_lambda=0.0, silent=True,\n",
       "                                      subsample=1.0, subsample_for_bin=200000,\n",
       "                                      subsample_freq=0),\n",
       "             iid='warn', n_jobs=-1,\n",
       "             param_grid={'learning_rate': [0.1, 0.01, 0.02, 0.05],\n",
       "                         'max_depth': [3, 4, 5, 6],\n",
       "                         'min_child_samples': [5, 10, 20],\n",
       "                         'n_estimators': [100, 500, 1000, 2000],\n",
       "                         'subsample': [0.6, 0.8, 1.0]},\n",
       "             pre_dispatch='2*n_jobs', refit=True, return_train_score=False,\n",
       "             scoring=None, verbose=2)"
      ]
     },
     "execution_count": 60,
     "metadata": {},
     "output_type": "execute_result"
    }
   ],
   "source": [
    "lgbm_cv_models.fit(X_train, y_train)"
   ]
  },
  {
   "cell_type": "code",
   "execution_count": 62,
   "metadata": {},
   "outputs": [
    {
     "data": {
      "text/plain": [
       "{'learning_rate': 0.01,\n",
       " 'max_depth': 3,\n",
       " 'min_child_samples': 20,\n",
       " 'n_estimators': 500,\n",
       " 'subsample': 0.6}"
      ]
     },
     "execution_count": 62,
     "metadata": {},
     "output_type": "execute_result"
    }
   ],
   "source": [
    "lgbm_cv_models.best_params_"
   ]
  },
  {
   "cell_type": "code",
   "execution_count": 63,
   "metadata": {},
   "outputs": [
    {
     "data": {
      "text/plain": [
       "0.7445887445887446"
      ]
     },
     "execution_count": 63,
     "metadata": {},
     "output_type": "execute_result"
    }
   ],
   "source": [
    "y_pred = lgbm_cv_models.predict(X_test)\n",
    "accuracy_score(y_test, y_pred)"
   ]
  },
  {
   "cell_type": "code",
   "execution_count": 64,
   "metadata": {},
   "outputs": [
    {
     "name": "stdout",
     "output_type": "stream",
     "text": [
      "              precision    recall  f1-score   support\n",
      "\n",
      "           0       0.81      0.80      0.80       151\n",
      "           1       0.63      0.64      0.63        80\n",
      "\n",
      "    accuracy                           0.74       231\n",
      "   macro avg       0.72      0.72      0.72       231\n",
      "weighted avg       0.75      0.74      0.74       231\n",
      "\n"
     ]
    }
   ],
   "source": [
    "print (classification_report(y_test, y_pred))"
   ]
  },
  {
   "cell_type": "markdown",
   "metadata": {},
   "source": [
    "catboost katagorik x'lerle daha hızlı çözüm üretiyor"
   ]
  },
  {
   "cell_type": "code",
   "execution_count": 66,
   "metadata": {},
   "outputs": [],
   "source": [
    "from catboost import CatBoostClassifier"
   ]
  },
  {
   "cell_type": "code",
   "execution_count": 67,
   "metadata": {},
   "outputs": [
    {
     "name": "stdout",
     "output_type": "stream",
     "text": [
      "Learning rate set to 0.014051\n",
      "0:\tlearn: 0.6855150\ttotal: 107ms\tremaining: 1m 46s\n",
      "1:\tlearn: 0.6770871\ttotal: 126ms\tremaining: 1m 3s\n",
      "2:\tlearn: 0.6702185\ttotal: 144ms\tremaining: 47.9s\n",
      "3:\tlearn: 0.6643316\ttotal: 162ms\tremaining: 40.4s\n",
      "4:\tlearn: 0.6579151\ttotal: 183ms\tremaining: 36.4s\n",
      "5:\tlearn: 0.6514998\ttotal: 206ms\tremaining: 34.1s\n",
      "6:\tlearn: 0.6461360\ttotal: 224ms\tremaining: 31.8s\n",
      "7:\tlearn: 0.6390706\ttotal: 242ms\tremaining: 30s\n",
      "8:\tlearn: 0.6327248\ttotal: 261ms\tremaining: 28.7s\n",
      "9:\tlearn: 0.6271842\ttotal: 279ms\tremaining: 27.6s\n",
      "10:\tlearn: 0.6216610\ttotal: 297ms\tremaining: 26.7s\n",
      "11:\tlearn: 0.6156951\ttotal: 315ms\tremaining: 25.9s\n",
      "12:\tlearn: 0.6103059\ttotal: 335ms\tremaining: 25.5s\n",
      "13:\tlearn: 0.6050651\ttotal: 355ms\tremaining: 25s\n",
      "14:\tlearn: 0.6011997\ttotal: 375ms\tremaining: 24.6s\n",
      "15:\tlearn: 0.5965126\ttotal: 398ms\tremaining: 24.5s\n",
      "16:\tlearn: 0.5905148\ttotal: 417ms\tremaining: 24.1s\n",
      "17:\tlearn: 0.5860842\ttotal: 435ms\tremaining: 23.7s\n",
      "18:\tlearn: 0.5826715\ttotal: 453ms\tremaining: 23.4s\n",
      "19:\tlearn: 0.5787108\ttotal: 471ms\tremaining: 23.1s\n",
      "20:\tlearn: 0.5735968\ttotal: 490ms\tremaining: 22.8s\n",
      "21:\tlearn: 0.5688074\ttotal: 509ms\tremaining: 22.6s\n",
      "22:\tlearn: 0.5650105\ttotal: 527ms\tremaining: 22.4s\n",
      "23:\tlearn: 0.5617773\ttotal: 545ms\tremaining: 22.2s\n",
      "24:\tlearn: 0.5574985\ttotal: 564ms\tremaining: 22s\n",
      "25:\tlearn: 0.5535241\ttotal: 585ms\tremaining: 21.9s\n",
      "26:\tlearn: 0.5494823\ttotal: 605ms\tremaining: 21.8s\n",
      "27:\tlearn: 0.5462926\ttotal: 624ms\tremaining: 21.7s\n",
      "28:\tlearn: 0.5424273\ttotal: 643ms\tremaining: 21.5s\n",
      "29:\tlearn: 0.5390546\ttotal: 661ms\tremaining: 21.4s\n",
      "30:\tlearn: 0.5363148\ttotal: 679ms\tremaining: 21.2s\n",
      "31:\tlearn: 0.5338065\ttotal: 698ms\tremaining: 21.1s\n",
      "32:\tlearn: 0.5308509\ttotal: 716ms\tremaining: 21s\n",
      "33:\tlearn: 0.5286384\ttotal: 735ms\tremaining: 20.9s\n",
      "34:\tlearn: 0.5267177\ttotal: 753ms\tremaining: 20.8s\n",
      "35:\tlearn: 0.5237470\ttotal: 775ms\tremaining: 20.8s\n",
      "36:\tlearn: 0.5204408\ttotal: 794ms\tremaining: 20.7s\n",
      "37:\tlearn: 0.5175617\ttotal: 818ms\tremaining: 20.7s\n",
      "38:\tlearn: 0.5154784\ttotal: 840ms\tremaining: 20.7s\n",
      "39:\tlearn: 0.5118687\ttotal: 861ms\tremaining: 20.7s\n",
      "40:\tlearn: 0.5091355\ttotal: 880ms\tremaining: 20.6s\n",
      "41:\tlearn: 0.5058651\ttotal: 899ms\tremaining: 20.5s\n",
      "42:\tlearn: 0.5037934\ttotal: 919ms\tremaining: 20.4s\n",
      "43:\tlearn: 0.5010799\ttotal: 939ms\tremaining: 20.4s\n",
      "44:\tlearn: 0.4990765\ttotal: 963ms\tremaining: 20.4s\n",
      "45:\tlearn: 0.4962666\ttotal: 985ms\tremaining: 20.4s\n",
      "46:\tlearn: 0.4944233\ttotal: 1s\tremaining: 20.3s\n",
      "47:\tlearn: 0.4910435\ttotal: 1.02s\tremaining: 20.3s\n",
      "48:\tlearn: 0.4891533\ttotal: 1.06s\tremaining: 20.5s\n",
      "49:\tlearn: 0.4874591\ttotal: 1.08s\tremaining: 20.5s\n",
      "50:\tlearn: 0.4840676\ttotal: 1.1s\tremaining: 20.6s\n",
      "51:\tlearn: 0.4822409\ttotal: 1.13s\tremaining: 20.7s\n",
      "52:\tlearn: 0.4801427\ttotal: 1.16s\tremaining: 20.7s\n",
      "53:\tlearn: 0.4778434\ttotal: 1.19s\tremaining: 20.8s\n",
      "54:\tlearn: 0.4759932\ttotal: 1.21s\tremaining: 20.9s\n",
      "55:\tlearn: 0.4742977\ttotal: 1.24s\tremaining: 20.9s\n",
      "56:\tlearn: 0.4724980\ttotal: 1.27s\tremaining: 21s\n",
      "57:\tlearn: 0.4708126\ttotal: 1.29s\tremaining: 21s\n",
      "58:\tlearn: 0.4689753\ttotal: 1.32s\tremaining: 21s\n",
      "59:\tlearn: 0.4676184\ttotal: 1.35s\tremaining: 21.1s\n",
      "60:\tlearn: 0.4656498\ttotal: 1.38s\tremaining: 21.2s\n",
      "61:\tlearn: 0.4641401\ttotal: 1.4s\tremaining: 21.1s\n",
      "62:\tlearn: 0.4626962\ttotal: 1.42s\tremaining: 21.2s\n",
      "63:\tlearn: 0.4615005\ttotal: 1.44s\tremaining: 21.1s\n",
      "64:\tlearn: 0.4604933\ttotal: 1.46s\tremaining: 21s\n",
      "65:\tlearn: 0.4594136\ttotal: 1.48s\tremaining: 20.9s\n",
      "66:\tlearn: 0.4579688\ttotal: 1.49s\tremaining: 20.8s\n",
      "67:\tlearn: 0.4567136\ttotal: 1.51s\tremaining: 20.7s\n",
      "68:\tlearn: 0.4546760\ttotal: 1.53s\tremaining: 20.6s\n",
      "69:\tlearn: 0.4531337\ttotal: 1.55s\tremaining: 20.6s\n",
      "70:\tlearn: 0.4521266\ttotal: 1.57s\tremaining: 20.6s\n",
      "71:\tlearn: 0.4501331\ttotal: 1.59s\tremaining: 20.6s\n",
      "72:\tlearn: 0.4483935\ttotal: 1.62s\tremaining: 20.6s\n",
      "73:\tlearn: 0.4468770\ttotal: 1.64s\tremaining: 20.6s\n",
      "74:\tlearn: 0.4456093\ttotal: 1.67s\tremaining: 20.5s\n",
      "75:\tlearn: 0.4437882\ttotal: 1.69s\tremaining: 20.5s\n",
      "76:\tlearn: 0.4429340\ttotal: 1.71s\tremaining: 20.5s\n",
      "77:\tlearn: 0.4419641\ttotal: 1.73s\tremaining: 20.4s\n",
      "78:\tlearn: 0.4409543\ttotal: 1.75s\tremaining: 20.4s\n",
      "79:\tlearn: 0.4398346\ttotal: 1.77s\tremaining: 20.4s\n",
      "80:\tlearn: 0.4377858\ttotal: 1.8s\tremaining: 20.4s\n",
      "81:\tlearn: 0.4370914\ttotal: 1.82s\tremaining: 20.4s\n",
      "82:\tlearn: 0.4360152\ttotal: 1.84s\tremaining: 20.3s\n",
      "83:\tlearn: 0.4338659\ttotal: 1.86s\tremaining: 20.3s\n",
      "84:\tlearn: 0.4330507\ttotal: 1.88s\tremaining: 20.2s\n",
      "85:\tlearn: 0.4315601\ttotal: 1.91s\tremaining: 20.3s\n",
      "86:\tlearn: 0.4301555\ttotal: 1.93s\tremaining: 20.3s\n",
      "87:\tlearn: 0.4296356\ttotal: 1.96s\tremaining: 20.3s\n",
      "88:\tlearn: 0.4288824\ttotal: 1.98s\tremaining: 20.2s\n",
      "89:\tlearn: 0.4278771\ttotal: 1.99s\tremaining: 20.2s\n",
      "90:\tlearn: 0.4267041\ttotal: 2.01s\tremaining: 20.1s\n",
      "91:\tlearn: 0.4256415\ttotal: 2.03s\tremaining: 20s\n",
      "92:\tlearn: 0.4251379\ttotal: 2.04s\tremaining: 19.9s\n",
      "93:\tlearn: 0.4241514\ttotal: 2.06s\tremaining: 19.9s\n",
      "94:\tlearn: 0.4233252\ttotal: 2.08s\tremaining: 19.8s\n",
      "95:\tlearn: 0.4224810\ttotal: 2.1s\tremaining: 19.8s\n",
      "96:\tlearn: 0.4215699\ttotal: 2.12s\tremaining: 19.8s\n",
      "97:\tlearn: 0.4207098\ttotal: 2.15s\tremaining: 19.8s\n",
      "98:\tlearn: 0.4192137\ttotal: 2.17s\tremaining: 19.8s\n",
      "99:\tlearn: 0.4185275\ttotal: 2.2s\tremaining: 19.8s\n",
      "100:\tlearn: 0.4176344\ttotal: 2.23s\tremaining: 19.8s\n",
      "101:\tlearn: 0.4164605\ttotal: 2.25s\tremaining: 19.8s\n",
      "102:\tlearn: 0.4155657\ttotal: 2.28s\tremaining: 19.9s\n",
      "103:\tlearn: 0.4150441\ttotal: 2.31s\tremaining: 19.9s\n",
      "104:\tlearn: 0.4140472\ttotal: 2.33s\tremaining: 19.9s\n",
      "105:\tlearn: 0.4134083\ttotal: 2.37s\tremaining: 20s\n",
      "106:\tlearn: 0.4128325\ttotal: 2.39s\tremaining: 20s\n",
      "107:\tlearn: 0.4120207\ttotal: 2.42s\tremaining: 20s\n",
      "108:\tlearn: 0.4112472\ttotal: 2.44s\tremaining: 20s\n",
      "109:\tlearn: 0.4103616\ttotal: 2.47s\tremaining: 20s\n",
      "110:\tlearn: 0.4098844\ttotal: 2.5s\tremaining: 20s\n",
      "111:\tlearn: 0.4089941\ttotal: 2.52s\tremaining: 20s\n",
      "112:\tlearn: 0.4080776\ttotal: 2.54s\tremaining: 19.9s\n",
      "113:\tlearn: 0.4071631\ttotal: 2.56s\tremaining: 19.9s\n",
      "114:\tlearn: 0.4064449\ttotal: 2.58s\tremaining: 19.9s\n",
      "115:\tlearn: 0.4058528\ttotal: 2.61s\tremaining: 19.9s\n",
      "116:\tlearn: 0.4052606\ttotal: 2.64s\tremaining: 19.9s\n",
      "117:\tlearn: 0.4041042\ttotal: 2.67s\tremaining: 19.9s\n",
      "118:\tlearn: 0.4035341\ttotal: 2.69s\tremaining: 19.9s\n",
      "119:\tlearn: 0.4032324\ttotal: 2.71s\tremaining: 19.9s\n",
      "120:\tlearn: 0.4026863\ttotal: 2.74s\tremaining: 19.9s\n",
      "121:\tlearn: 0.4018410\ttotal: 2.77s\tremaining: 19.9s\n",
      "122:\tlearn: 0.4010875\ttotal: 2.79s\tremaining: 19.9s\n",
      "123:\tlearn: 0.4004614\ttotal: 2.81s\tremaining: 19.9s\n",
      "124:\tlearn: 0.3998816\ttotal: 2.84s\tremaining: 19.9s\n",
      "125:\tlearn: 0.3994033\ttotal: 2.86s\tremaining: 19.9s\n",
      "126:\tlearn: 0.3988970\ttotal: 2.88s\tremaining: 19.8s\n",
      "127:\tlearn: 0.3983345\ttotal: 2.91s\tremaining: 19.8s\n",
      "128:\tlearn: 0.3978301\ttotal: 2.93s\tremaining: 19.8s\n",
      "129:\tlearn: 0.3974726\ttotal: 2.96s\tremaining: 19.8s\n",
      "130:\tlearn: 0.3970527\ttotal: 2.98s\tremaining: 19.8s\n",
      "131:\tlearn: 0.3959477\ttotal: 3.01s\tremaining: 19.8s\n",
      "132:\tlearn: 0.3954501\ttotal: 3.03s\tremaining: 19.8s\n",
      "133:\tlearn: 0.3950607\ttotal: 3.06s\tremaining: 19.8s\n",
      "134:\tlearn: 0.3947005\ttotal: 3.08s\tremaining: 19.7s\n",
      "135:\tlearn: 0.3940579\ttotal: 3.1s\tremaining: 19.7s\n",
      "136:\tlearn: 0.3938609\ttotal: 3.12s\tremaining: 19.7s\n",
      "137:\tlearn: 0.3934050\ttotal: 3.15s\tremaining: 19.7s\n",
      "138:\tlearn: 0.3929366\ttotal: 3.17s\tremaining: 19.6s\n",
      "139:\tlearn: 0.3924608\ttotal: 3.19s\tremaining: 19.6s\n",
      "140:\tlearn: 0.3919533\ttotal: 3.22s\tremaining: 19.6s\n",
      "141:\tlearn: 0.3916568\ttotal: 3.24s\tremaining: 19.6s\n",
      "142:\tlearn: 0.3912872\ttotal: 3.26s\tremaining: 19.6s\n",
      "143:\tlearn: 0.3908611\ttotal: 3.29s\tremaining: 19.5s\n",
      "144:\tlearn: 0.3905237\ttotal: 3.31s\tremaining: 19.5s\n",
      "145:\tlearn: 0.3900668\ttotal: 3.33s\tremaining: 19.5s\n",
      "146:\tlearn: 0.3895775\ttotal: 3.36s\tremaining: 19.5s\n",
      "147:\tlearn: 0.3889688\ttotal: 3.38s\tremaining: 19.5s\n",
      "148:\tlearn: 0.3880500\ttotal: 3.41s\tremaining: 19.5s\n",
      "149:\tlearn: 0.3876157\ttotal: 3.44s\tremaining: 19.5s\n",
      "150:\tlearn: 0.3868288\ttotal: 3.46s\tremaining: 19.5s\n",
      "151:\tlearn: 0.3865649\ttotal: 3.49s\tremaining: 19.5s\n",
      "152:\tlearn: 0.3857021\ttotal: 3.51s\tremaining: 19.4s\n",
      "153:\tlearn: 0.3854615\ttotal: 3.53s\tremaining: 19.4s\n",
      "154:\tlearn: 0.3848121\ttotal: 3.56s\tremaining: 19.4s\n",
      "155:\tlearn: 0.3842129\ttotal: 3.58s\tremaining: 19.4s\n",
      "156:\tlearn: 0.3830335\ttotal: 3.61s\tremaining: 19.4s\n",
      "157:\tlearn: 0.3824864\ttotal: 3.64s\tremaining: 19.4s\n",
      "158:\tlearn: 0.3820294\ttotal: 3.66s\tremaining: 19.4s\n",
      "159:\tlearn: 0.3817277\ttotal: 3.69s\tremaining: 19.4s\n"
     ]
    },
    {
     "name": "stdout",
     "output_type": "stream",
     "text": [
      "160:\tlearn: 0.3809674\ttotal: 3.72s\tremaining: 19.4s\n",
      "161:\tlearn: 0.3807287\ttotal: 3.74s\tremaining: 19.3s\n",
      "162:\tlearn: 0.3803310\ttotal: 3.76s\tremaining: 19.3s\n",
      "163:\tlearn: 0.3795906\ttotal: 3.79s\tremaining: 19.3s\n",
      "164:\tlearn: 0.3789064\ttotal: 3.81s\tremaining: 19.3s\n",
      "165:\tlearn: 0.3785732\ttotal: 3.84s\tremaining: 19.3s\n",
      "166:\tlearn: 0.3780658\ttotal: 3.86s\tremaining: 19.3s\n",
      "167:\tlearn: 0.3775354\ttotal: 3.89s\tremaining: 19.3s\n",
      "168:\tlearn: 0.3769631\ttotal: 3.92s\tremaining: 19.3s\n",
      "169:\tlearn: 0.3765574\ttotal: 3.94s\tremaining: 19.2s\n",
      "170:\tlearn: 0.3760174\ttotal: 3.97s\tremaining: 19.2s\n",
      "171:\tlearn: 0.3756017\ttotal: 3.99s\tremaining: 19.2s\n",
      "172:\tlearn: 0.3752173\ttotal: 4.01s\tremaining: 19.2s\n",
      "173:\tlearn: 0.3748519\ttotal: 4.04s\tremaining: 19.2s\n",
      "174:\tlearn: 0.3745657\ttotal: 4.06s\tremaining: 19.1s\n",
      "175:\tlearn: 0.3743903\ttotal: 4.08s\tremaining: 19.1s\n",
      "176:\tlearn: 0.3742445\ttotal: 4.1s\tremaining: 19.1s\n",
      "177:\tlearn: 0.3739540\ttotal: 4.12s\tremaining: 19s\n",
      "178:\tlearn: 0.3737146\ttotal: 4.14s\tremaining: 19s\n",
      "179:\tlearn: 0.3734065\ttotal: 4.16s\tremaining: 19s\n",
      "180:\tlearn: 0.3728762\ttotal: 4.18s\tremaining: 18.9s\n",
      "181:\tlearn: 0.3726519\ttotal: 4.21s\tremaining: 18.9s\n",
      "182:\tlearn: 0.3723137\ttotal: 4.23s\tremaining: 18.9s\n",
      "183:\tlearn: 0.3714721\ttotal: 4.25s\tremaining: 18.8s\n",
      "184:\tlearn: 0.3712801\ttotal: 4.27s\tremaining: 18.8s\n",
      "185:\tlearn: 0.3707875\ttotal: 4.29s\tremaining: 18.8s\n",
      "186:\tlearn: 0.3702778\ttotal: 4.31s\tremaining: 18.7s\n",
      "187:\tlearn: 0.3700432\ttotal: 4.33s\tremaining: 18.7s\n",
      "188:\tlearn: 0.3696787\ttotal: 4.36s\tremaining: 18.7s\n",
      "189:\tlearn: 0.3685341\ttotal: 4.38s\tremaining: 18.7s\n",
      "190:\tlearn: 0.3680128\ttotal: 4.4s\tremaining: 18.6s\n",
      "191:\tlearn: 0.3672151\ttotal: 4.42s\tremaining: 18.6s\n",
      "192:\tlearn: 0.3669498\ttotal: 4.45s\tremaining: 18.6s\n",
      "193:\tlearn: 0.3658715\ttotal: 4.47s\tremaining: 18.6s\n",
      "194:\tlearn: 0.3656527\ttotal: 4.49s\tremaining: 18.5s\n",
      "195:\tlearn: 0.3655941\ttotal: 4.5s\tremaining: 18.5s\n",
      "196:\tlearn: 0.3652654\ttotal: 4.52s\tremaining: 18.4s\n",
      "197:\tlearn: 0.3650021\ttotal: 4.54s\tremaining: 18.4s\n",
      "198:\tlearn: 0.3643391\ttotal: 4.56s\tremaining: 18.3s\n",
      "199:\tlearn: 0.3640934\ttotal: 4.58s\tremaining: 18.3s\n",
      "200:\tlearn: 0.3636733\ttotal: 4.59s\tremaining: 18.3s\n",
      "201:\tlearn: 0.3633261\ttotal: 4.62s\tremaining: 18.2s\n",
      "202:\tlearn: 0.3630034\ttotal: 4.64s\tremaining: 18.2s\n",
      "203:\tlearn: 0.3628904\ttotal: 4.65s\tremaining: 18.2s\n",
      "204:\tlearn: 0.3623388\ttotal: 4.67s\tremaining: 18.1s\n",
      "205:\tlearn: 0.3617478\ttotal: 4.7s\tremaining: 18.1s\n",
      "206:\tlearn: 0.3613909\ttotal: 4.72s\tremaining: 18.1s\n",
      "207:\tlearn: 0.3607622\ttotal: 4.74s\tremaining: 18s\n",
      "208:\tlearn: 0.3605817\ttotal: 4.75s\tremaining: 18s\n",
      "209:\tlearn: 0.3604722\ttotal: 4.77s\tremaining: 18s\n",
      "210:\tlearn: 0.3603182\ttotal: 4.79s\tremaining: 17.9s\n",
      "211:\tlearn: 0.3599327\ttotal: 4.81s\tremaining: 17.9s\n",
      "212:\tlearn: 0.3596663\ttotal: 4.83s\tremaining: 17.8s\n",
      "213:\tlearn: 0.3591958\ttotal: 4.85s\tremaining: 17.8s\n",
      "214:\tlearn: 0.3590059\ttotal: 4.87s\tremaining: 17.8s\n",
      "215:\tlearn: 0.3586858\ttotal: 4.89s\tremaining: 17.8s\n",
      "216:\tlearn: 0.3583415\ttotal: 4.91s\tremaining: 17.7s\n",
      "217:\tlearn: 0.3579392\ttotal: 4.93s\tremaining: 17.7s\n",
      "218:\tlearn: 0.3576925\ttotal: 4.95s\tremaining: 17.7s\n",
      "219:\tlearn: 0.3571766\ttotal: 4.97s\tremaining: 17.6s\n",
      "220:\tlearn: 0.3570755\ttotal: 4.99s\tremaining: 17.6s\n",
      "221:\tlearn: 0.3563818\ttotal: 5.01s\tremaining: 17.6s\n",
      "222:\tlearn: 0.3559047\ttotal: 5.03s\tremaining: 17.5s\n",
      "223:\tlearn: 0.3555699\ttotal: 5.05s\tremaining: 17.5s\n",
      "224:\tlearn: 0.3554390\ttotal: 5.07s\tremaining: 17.5s\n",
      "225:\tlearn: 0.3552171\ttotal: 5.09s\tremaining: 17.4s\n",
      "226:\tlearn: 0.3549697\ttotal: 5.11s\tremaining: 17.4s\n",
      "227:\tlearn: 0.3544745\ttotal: 5.13s\tremaining: 17.4s\n",
      "228:\tlearn: 0.3540320\ttotal: 5.15s\tremaining: 17.3s\n",
      "229:\tlearn: 0.3536163\ttotal: 5.17s\tremaining: 17.3s\n",
      "230:\tlearn: 0.3532278\ttotal: 5.19s\tremaining: 17.3s\n",
      "231:\tlearn: 0.3527476\ttotal: 5.2s\tremaining: 17.2s\n",
      "232:\tlearn: 0.3526182\ttotal: 5.22s\tremaining: 17.2s\n",
      "233:\tlearn: 0.3523972\ttotal: 5.24s\tremaining: 17.2s\n",
      "234:\tlearn: 0.3521070\ttotal: 5.26s\tremaining: 17.1s\n",
      "235:\tlearn: 0.3519121\ttotal: 5.28s\tremaining: 17.1s\n",
      "236:\tlearn: 0.3516954\ttotal: 5.31s\tremaining: 17.1s\n",
      "237:\tlearn: 0.3514668\ttotal: 5.33s\tremaining: 17.1s\n",
      "238:\tlearn: 0.3509676\ttotal: 5.36s\tremaining: 17.1s\n",
      "239:\tlearn: 0.3504093\ttotal: 5.38s\tremaining: 17s\n",
      "240:\tlearn: 0.3503063\ttotal: 5.39s\tremaining: 17s\n",
      "241:\tlearn: 0.3502156\ttotal: 5.42s\tremaining: 17s\n",
      "242:\tlearn: 0.3499532\ttotal: 5.44s\tremaining: 16.9s\n",
      "243:\tlearn: 0.3494974\ttotal: 5.46s\tremaining: 16.9s\n",
      "244:\tlearn: 0.3492019\ttotal: 5.48s\tremaining: 16.9s\n",
      "245:\tlearn: 0.3489023\ttotal: 5.5s\tremaining: 16.8s\n",
      "246:\tlearn: 0.3487010\ttotal: 5.51s\tremaining: 16.8s\n",
      "247:\tlearn: 0.3484874\ttotal: 5.53s\tremaining: 16.8s\n",
      "248:\tlearn: 0.3483669\ttotal: 5.54s\tremaining: 16.7s\n",
      "249:\tlearn: 0.3480796\ttotal: 5.56s\tremaining: 16.7s\n",
      "250:\tlearn: 0.3474192\ttotal: 5.58s\tremaining: 16.6s\n",
      "251:\tlearn: 0.3469324\ttotal: 5.6s\tremaining: 16.6s\n",
      "252:\tlearn: 0.3466325\ttotal: 5.62s\tremaining: 16.6s\n",
      "253:\tlearn: 0.3463246\ttotal: 5.65s\tremaining: 16.6s\n",
      "254:\tlearn: 0.3458330\ttotal: 5.68s\tremaining: 16.6s\n",
      "255:\tlearn: 0.3454887\ttotal: 5.7s\tremaining: 16.6s\n",
      "256:\tlearn: 0.3453956\ttotal: 5.72s\tremaining: 16.5s\n",
      "257:\tlearn: 0.3452294\ttotal: 5.74s\tremaining: 16.5s\n",
      "258:\tlearn: 0.3448511\ttotal: 5.76s\tremaining: 16.5s\n",
      "259:\tlearn: 0.3444438\ttotal: 5.78s\tremaining: 16.5s\n",
      "260:\tlearn: 0.3441959\ttotal: 5.8s\tremaining: 16.4s\n",
      "261:\tlearn: 0.3438585\ttotal: 5.83s\tremaining: 16.4s\n",
      "262:\tlearn: 0.3432910\ttotal: 5.85s\tremaining: 16.4s\n",
      "263:\tlearn: 0.3431788\ttotal: 5.88s\tremaining: 16.4s\n",
      "264:\tlearn: 0.3427414\ttotal: 5.9s\tremaining: 16.4s\n",
      "265:\tlearn: 0.3426126\ttotal: 5.92s\tremaining: 16.3s\n",
      "266:\tlearn: 0.3424231\ttotal: 5.94s\tremaining: 16.3s\n",
      "267:\tlearn: 0.3422968\ttotal: 5.96s\tremaining: 16.3s\n",
      "268:\tlearn: 0.3421472\ttotal: 5.97s\tremaining: 16.2s\n",
      "269:\tlearn: 0.3419243\ttotal: 5.99s\tremaining: 16.2s\n",
      "270:\tlearn: 0.3415262\ttotal: 6.01s\tremaining: 16.2s\n",
      "271:\tlearn: 0.3414921\ttotal: 6.03s\tremaining: 16.1s\n",
      "272:\tlearn: 0.3413230\ttotal: 6.05s\tremaining: 16.1s\n",
      "273:\tlearn: 0.3410374\ttotal: 6.07s\tremaining: 16.1s\n",
      "274:\tlearn: 0.3409413\ttotal: 6.09s\tremaining: 16.1s\n",
      "275:\tlearn: 0.3405685\ttotal: 6.12s\tremaining: 16.1s\n",
      "276:\tlearn: 0.3403742\ttotal: 6.14s\tremaining: 16s\n",
      "277:\tlearn: 0.3401975\ttotal: 6.16s\tremaining: 16s\n",
      "278:\tlearn: 0.3400607\ttotal: 6.18s\tremaining: 16s\n",
      "279:\tlearn: 0.3397315\ttotal: 6.21s\tremaining: 16s\n",
      "280:\tlearn: 0.3395593\ttotal: 6.23s\tremaining: 15.9s\n",
      "281:\tlearn: 0.3392816\ttotal: 6.25s\tremaining: 15.9s\n",
      "282:\tlearn: 0.3391708\ttotal: 6.27s\tremaining: 15.9s\n",
      "283:\tlearn: 0.3387466\ttotal: 6.3s\tremaining: 15.9s\n",
      "284:\tlearn: 0.3385418\ttotal: 6.32s\tremaining: 15.9s\n",
      "285:\tlearn: 0.3382095\ttotal: 6.34s\tremaining: 15.8s\n",
      "286:\tlearn: 0.3377339\ttotal: 6.37s\tremaining: 15.8s\n",
      "287:\tlearn: 0.3375351\ttotal: 6.39s\tremaining: 15.8s\n",
      "288:\tlearn: 0.3373323\ttotal: 6.42s\tremaining: 15.8s\n",
      "289:\tlearn: 0.3371320\ttotal: 6.44s\tremaining: 15.8s\n",
      "290:\tlearn: 0.3369427\ttotal: 6.46s\tremaining: 15.7s\n",
      "291:\tlearn: 0.3368591\ttotal: 6.49s\tremaining: 15.7s\n",
      "292:\tlearn: 0.3365240\ttotal: 6.51s\tremaining: 15.7s\n",
      "293:\tlearn: 0.3362097\ttotal: 6.53s\tremaining: 15.7s\n",
      "294:\tlearn: 0.3358544\ttotal: 6.55s\tremaining: 15.7s\n",
      "295:\tlearn: 0.3357580\ttotal: 6.58s\tremaining: 15.7s\n",
      "296:\tlearn: 0.3353063\ttotal: 6.6s\tremaining: 15.6s\n",
      "297:\tlearn: 0.3352435\ttotal: 6.62s\tremaining: 15.6s\n",
      "298:\tlearn: 0.3349453\ttotal: 6.64s\tremaining: 15.6s\n",
      "299:\tlearn: 0.3345750\ttotal: 6.67s\tremaining: 15.6s\n",
      "300:\tlearn: 0.3343611\ttotal: 6.69s\tremaining: 15.5s\n",
      "301:\tlearn: 0.3340619\ttotal: 6.71s\tremaining: 15.5s\n",
      "302:\tlearn: 0.3336783\ttotal: 6.73s\tremaining: 15.5s\n",
      "303:\tlearn: 0.3333731\ttotal: 6.75s\tremaining: 15.4s\n",
      "304:\tlearn: 0.3332785\ttotal: 6.77s\tremaining: 15.4s\n",
      "305:\tlearn: 0.3328460\ttotal: 6.79s\tremaining: 15.4s\n",
      "306:\tlearn: 0.3323895\ttotal: 6.81s\tremaining: 15.4s\n",
      "307:\tlearn: 0.3322377\ttotal: 6.83s\tremaining: 15.4s\n",
      "308:\tlearn: 0.3320736\ttotal: 6.85s\tremaining: 15.3s\n",
      "309:\tlearn: 0.3319826\ttotal: 6.88s\tremaining: 15.3s\n",
      "310:\tlearn: 0.3317822\ttotal: 6.9s\tremaining: 15.3s\n",
      "311:\tlearn: 0.3315640\ttotal: 6.92s\tremaining: 15.3s\n",
      "312:\tlearn: 0.3315053\ttotal: 6.94s\tremaining: 15.2s\n",
      "313:\tlearn: 0.3313104\ttotal: 6.97s\tremaining: 15.2s\n",
      "314:\tlearn: 0.3311713\ttotal: 6.99s\tremaining: 15.2s\n",
      "315:\tlearn: 0.3308165\ttotal: 7.01s\tremaining: 15.2s\n",
      "316:\tlearn: 0.3305239\ttotal: 7.03s\tremaining: 15.2s\n",
      "317:\tlearn: 0.3303213\ttotal: 7.06s\tremaining: 15.1s\n",
      "318:\tlearn: 0.3297342\ttotal: 7.08s\tremaining: 15.1s\n",
      "319:\tlearn: 0.3296813\ttotal: 7.1s\tremaining: 15.1s\n",
      "320:\tlearn: 0.3294036\ttotal: 7.12s\tremaining: 15.1s\n"
     ]
    },
    {
     "name": "stdout",
     "output_type": "stream",
     "text": [
      "321:\tlearn: 0.3291229\ttotal: 7.15s\tremaining: 15s\n",
      "322:\tlearn: 0.3289438\ttotal: 7.17s\tremaining: 15s\n",
      "323:\tlearn: 0.3288662\ttotal: 7.18s\tremaining: 15s\n",
      "324:\tlearn: 0.3285113\ttotal: 7.2s\tremaining: 14.9s\n",
      "325:\tlearn: 0.3280366\ttotal: 7.22s\tremaining: 14.9s\n",
      "326:\tlearn: 0.3276422\ttotal: 7.24s\tremaining: 14.9s\n",
      "327:\tlearn: 0.3272262\ttotal: 7.26s\tremaining: 14.9s\n",
      "328:\tlearn: 0.3269950\ttotal: 7.28s\tremaining: 14.9s\n",
      "329:\tlearn: 0.3268762\ttotal: 7.3s\tremaining: 14.8s\n",
      "330:\tlearn: 0.3267984\ttotal: 7.33s\tremaining: 14.8s\n",
      "331:\tlearn: 0.3263309\ttotal: 7.35s\tremaining: 14.8s\n",
      "332:\tlearn: 0.3258272\ttotal: 7.37s\tremaining: 14.8s\n",
      "333:\tlearn: 0.3255450\ttotal: 7.38s\tremaining: 14.7s\n",
      "334:\tlearn: 0.3252281\ttotal: 7.41s\tremaining: 14.7s\n",
      "335:\tlearn: 0.3249689\ttotal: 7.43s\tremaining: 14.7s\n",
      "336:\tlearn: 0.3248598\ttotal: 7.45s\tremaining: 14.7s\n",
      "337:\tlearn: 0.3246616\ttotal: 7.47s\tremaining: 14.6s\n",
      "338:\tlearn: 0.3242783\ttotal: 7.5s\tremaining: 14.6s\n",
      "339:\tlearn: 0.3240859\ttotal: 7.52s\tremaining: 14.6s\n",
      "340:\tlearn: 0.3239646\ttotal: 7.54s\tremaining: 14.6s\n",
      "341:\tlearn: 0.3238829\ttotal: 7.56s\tremaining: 14.5s\n",
      "342:\tlearn: 0.3237879\ttotal: 7.58s\tremaining: 14.5s\n",
      "343:\tlearn: 0.3236833\ttotal: 7.6s\tremaining: 14.5s\n",
      "344:\tlearn: 0.3233391\ttotal: 7.62s\tremaining: 14.5s\n",
      "345:\tlearn: 0.3230156\ttotal: 7.64s\tremaining: 14.4s\n",
      "346:\tlearn: 0.3229553\ttotal: 7.65s\tremaining: 14.4s\n",
      "347:\tlearn: 0.3228482\ttotal: 7.67s\tremaining: 14.4s\n",
      "348:\tlearn: 0.3225904\ttotal: 7.69s\tremaining: 14.3s\n",
      "349:\tlearn: 0.3222656\ttotal: 7.71s\tremaining: 14.3s\n",
      "350:\tlearn: 0.3218858\ttotal: 7.73s\tremaining: 14.3s\n",
      "351:\tlearn: 0.3215418\ttotal: 7.75s\tremaining: 14.3s\n",
      "352:\tlearn: 0.3213273\ttotal: 7.77s\tremaining: 14.2s\n",
      "353:\tlearn: 0.3210579\ttotal: 7.79s\tremaining: 14.2s\n",
      "354:\tlearn: 0.3209431\ttotal: 7.81s\tremaining: 14.2s\n",
      "355:\tlearn: 0.3207970\ttotal: 7.83s\tremaining: 14.2s\n",
      "356:\tlearn: 0.3203133\ttotal: 7.85s\tremaining: 14.1s\n",
      "357:\tlearn: 0.3201852\ttotal: 7.87s\tremaining: 14.1s\n",
      "358:\tlearn: 0.3201151\ttotal: 7.89s\tremaining: 14.1s\n",
      "359:\tlearn: 0.3196614\ttotal: 7.91s\tremaining: 14.1s\n",
      "360:\tlearn: 0.3194726\ttotal: 7.93s\tremaining: 14s\n",
      "361:\tlearn: 0.3193596\ttotal: 7.95s\tremaining: 14s\n",
      "362:\tlearn: 0.3189739\ttotal: 7.96s\tremaining: 14s\n",
      "363:\tlearn: 0.3188185\ttotal: 7.98s\tremaining: 13.9s\n",
      "364:\tlearn: 0.3186781\ttotal: 8s\tremaining: 13.9s\n",
      "365:\tlearn: 0.3185954\ttotal: 8.03s\tremaining: 13.9s\n",
      "366:\tlearn: 0.3184751\ttotal: 8.05s\tremaining: 13.9s\n",
      "367:\tlearn: 0.3183664\ttotal: 8.07s\tremaining: 13.9s\n",
      "368:\tlearn: 0.3180368\ttotal: 8.09s\tremaining: 13.8s\n",
      "369:\tlearn: 0.3179520\ttotal: 8.11s\tremaining: 13.8s\n",
      "370:\tlearn: 0.3178363\ttotal: 8.13s\tremaining: 13.8s\n",
      "371:\tlearn: 0.3176015\ttotal: 8.15s\tremaining: 13.8s\n",
      "372:\tlearn: 0.3173805\ttotal: 8.16s\tremaining: 13.7s\n",
      "373:\tlearn: 0.3172375\ttotal: 8.18s\tremaining: 13.7s\n",
      "374:\tlearn: 0.3171264\ttotal: 8.2s\tremaining: 13.7s\n",
      "375:\tlearn: 0.3169996\ttotal: 8.22s\tremaining: 13.6s\n",
      "376:\tlearn: 0.3168474\ttotal: 8.23s\tremaining: 13.6s\n",
      "377:\tlearn: 0.3166502\ttotal: 8.26s\tremaining: 13.6s\n",
      "378:\tlearn: 0.3164819\ttotal: 8.28s\tremaining: 13.6s\n",
      "379:\tlearn: 0.3163077\ttotal: 8.29s\tremaining: 13.5s\n",
      "380:\tlearn: 0.3162628\ttotal: 8.31s\tremaining: 13.5s\n",
      "381:\tlearn: 0.3161080\ttotal: 8.33s\tremaining: 13.5s\n",
      "382:\tlearn: 0.3159035\ttotal: 8.35s\tremaining: 13.5s\n",
      "383:\tlearn: 0.3157509\ttotal: 8.37s\tremaining: 13.4s\n",
      "384:\tlearn: 0.3155215\ttotal: 8.39s\tremaining: 13.4s\n",
      "385:\tlearn: 0.3154455\ttotal: 8.41s\tremaining: 13.4s\n",
      "386:\tlearn: 0.3152500\ttotal: 8.43s\tremaining: 13.4s\n",
      "387:\tlearn: 0.3151150\ttotal: 8.45s\tremaining: 13.3s\n",
      "388:\tlearn: 0.3147185\ttotal: 8.47s\tremaining: 13.3s\n",
      "389:\tlearn: 0.3146238\ttotal: 8.49s\tremaining: 13.3s\n",
      "390:\tlearn: 0.3143609\ttotal: 8.51s\tremaining: 13.3s\n",
      "391:\tlearn: 0.3140790\ttotal: 8.54s\tremaining: 13.2s\n",
      "392:\tlearn: 0.3140195\ttotal: 8.56s\tremaining: 13.2s\n",
      "393:\tlearn: 0.3139557\ttotal: 8.58s\tremaining: 13.2s\n",
      "394:\tlearn: 0.3139049\ttotal: 8.6s\tremaining: 13.2s\n",
      "395:\tlearn: 0.3137247\ttotal: 8.62s\tremaining: 13.1s\n",
      "396:\tlearn: 0.3136304\ttotal: 8.64s\tremaining: 13.1s\n",
      "397:\tlearn: 0.3135204\ttotal: 8.66s\tremaining: 13.1s\n",
      "398:\tlearn: 0.3132433\ttotal: 8.68s\tremaining: 13.1s\n",
      "399:\tlearn: 0.3129650\ttotal: 8.7s\tremaining: 13.1s\n",
      "400:\tlearn: 0.3128955\ttotal: 8.72s\tremaining: 13s\n",
      "401:\tlearn: 0.3126961\ttotal: 8.74s\tremaining: 13s\n",
      "402:\tlearn: 0.3124645\ttotal: 8.76s\tremaining: 13s\n",
      "403:\tlearn: 0.3123061\ttotal: 8.78s\tremaining: 13s\n",
      "404:\tlearn: 0.3119665\ttotal: 8.8s\tremaining: 12.9s\n",
      "405:\tlearn: 0.3116046\ttotal: 8.83s\tremaining: 12.9s\n",
      "406:\tlearn: 0.3113257\ttotal: 8.85s\tremaining: 12.9s\n",
      "407:\tlearn: 0.3111041\ttotal: 8.87s\tremaining: 12.9s\n",
      "408:\tlearn: 0.3108858\ttotal: 8.88s\tremaining: 12.8s\n",
      "409:\tlearn: 0.3105382\ttotal: 8.9s\tremaining: 12.8s\n",
      "410:\tlearn: 0.3101684\ttotal: 8.92s\tremaining: 12.8s\n",
      "411:\tlearn: 0.3100931\ttotal: 8.94s\tremaining: 12.8s\n",
      "412:\tlearn: 0.3099614\ttotal: 8.96s\tremaining: 12.7s\n",
      "413:\tlearn: 0.3096855\ttotal: 8.98s\tremaining: 12.7s\n",
      "414:\tlearn: 0.3096206\ttotal: 9s\tremaining: 12.7s\n",
      "415:\tlearn: 0.3094109\ttotal: 9.02s\tremaining: 12.7s\n",
      "416:\tlearn: 0.3091736\ttotal: 9.04s\tremaining: 12.6s\n",
      "417:\tlearn: 0.3089406\ttotal: 9.05s\tremaining: 12.6s\n",
      "418:\tlearn: 0.3089253\ttotal: 9.06s\tremaining: 12.6s\n",
      "419:\tlearn: 0.3086243\ttotal: 9.08s\tremaining: 12.5s\n",
      "420:\tlearn: 0.3084746\ttotal: 9.1s\tremaining: 12.5s\n",
      "421:\tlearn: 0.3082135\ttotal: 9.12s\tremaining: 12.5s\n",
      "422:\tlearn: 0.3079999\ttotal: 9.14s\tremaining: 12.5s\n",
      "423:\tlearn: 0.3077484\ttotal: 9.16s\tremaining: 12.4s\n",
      "424:\tlearn: 0.3075629\ttotal: 9.17s\tremaining: 12.4s\n",
      "425:\tlearn: 0.3074469\ttotal: 9.19s\tremaining: 12.4s\n",
      "426:\tlearn: 0.3073306\ttotal: 9.21s\tremaining: 12.4s\n",
      "427:\tlearn: 0.3071750\ttotal: 9.23s\tremaining: 12.3s\n",
      "428:\tlearn: 0.3065098\ttotal: 9.25s\tremaining: 12.3s\n",
      "429:\tlearn: 0.3063590\ttotal: 9.27s\tremaining: 12.3s\n",
      "430:\tlearn: 0.3062952\ttotal: 9.29s\tremaining: 12.3s\n",
      "431:\tlearn: 0.3061262\ttotal: 9.3s\tremaining: 12.2s\n",
      "432:\tlearn: 0.3060348\ttotal: 9.32s\tremaining: 12.2s\n",
      "433:\tlearn: 0.3059226\ttotal: 9.34s\tremaining: 12.2s\n",
      "434:\tlearn: 0.3058014\ttotal: 9.36s\tremaining: 12.2s\n",
      "435:\tlearn: 0.3057540\ttotal: 9.38s\tremaining: 12.1s\n",
      "436:\tlearn: 0.3056093\ttotal: 9.4s\tremaining: 12.1s\n",
      "437:\tlearn: 0.3052933\ttotal: 9.42s\tremaining: 12.1s\n",
      "438:\tlearn: 0.3050904\ttotal: 9.44s\tremaining: 12.1s\n",
      "439:\tlearn: 0.3050202\ttotal: 9.46s\tremaining: 12s\n",
      "440:\tlearn: 0.3049851\ttotal: 9.48s\tremaining: 12s\n",
      "441:\tlearn: 0.3048961\ttotal: 9.51s\tremaining: 12s\n",
      "442:\tlearn: 0.3046872\ttotal: 9.53s\tremaining: 12s\n",
      "443:\tlearn: 0.3044647\ttotal: 9.55s\tremaining: 12s\n",
      "444:\tlearn: 0.3041540\ttotal: 9.58s\tremaining: 11.9s\n",
      "445:\tlearn: 0.3040872\ttotal: 9.6s\tremaining: 11.9s\n",
      "446:\tlearn: 0.3039668\ttotal: 9.62s\tremaining: 11.9s\n",
      "447:\tlearn: 0.3039325\ttotal: 9.64s\tremaining: 11.9s\n",
      "448:\tlearn: 0.3038137\ttotal: 9.66s\tremaining: 11.9s\n",
      "449:\tlearn: 0.3037722\ttotal: 9.68s\tremaining: 11.8s\n",
      "450:\tlearn: 0.3036158\ttotal: 9.7s\tremaining: 11.8s\n",
      "451:\tlearn: 0.3034690\ttotal: 9.72s\tremaining: 11.8s\n",
      "452:\tlearn: 0.3032795\ttotal: 9.74s\tremaining: 11.8s\n",
      "453:\tlearn: 0.3030762\ttotal: 9.76s\tremaining: 11.7s\n",
      "454:\tlearn: 0.3028103\ttotal: 9.78s\tremaining: 11.7s\n",
      "455:\tlearn: 0.3027414\ttotal: 9.81s\tremaining: 11.7s\n",
      "456:\tlearn: 0.3026594\ttotal: 9.83s\tremaining: 11.7s\n",
      "457:\tlearn: 0.3023823\ttotal: 9.85s\tremaining: 11.7s\n",
      "458:\tlearn: 0.3022408\ttotal: 9.87s\tremaining: 11.6s\n",
      "459:\tlearn: 0.3019313\ttotal: 9.88s\tremaining: 11.6s\n",
      "460:\tlearn: 0.3018345\ttotal: 9.9s\tremaining: 11.6s\n",
      "461:\tlearn: 0.3016269\ttotal: 9.92s\tremaining: 11.6s\n",
      "462:\tlearn: 0.3014763\ttotal: 9.94s\tremaining: 11.5s\n",
      "463:\tlearn: 0.3012871\ttotal: 9.96s\tremaining: 11.5s\n",
      "464:\tlearn: 0.3012260\ttotal: 9.98s\tremaining: 11.5s\n",
      "465:\tlearn: 0.3009998\ttotal: 10s\tremaining: 11.5s\n",
      "466:\tlearn: 0.3008873\ttotal: 10s\tremaining: 11.4s\n",
      "467:\tlearn: 0.3005922\ttotal: 10s\tremaining: 11.4s\n",
      "468:\tlearn: 0.3004093\ttotal: 10.1s\tremaining: 11.4s\n",
      "469:\tlearn: 0.3003240\ttotal: 10.1s\tremaining: 11.4s\n",
      "470:\tlearn: 0.3000057\ttotal: 10.1s\tremaining: 11.3s\n",
      "471:\tlearn: 0.2997066\ttotal: 10.1s\tremaining: 11.3s\n",
      "472:\tlearn: 0.2995472\ttotal: 10.1s\tremaining: 11.3s\n",
      "473:\tlearn: 0.2994527\ttotal: 10.2s\tremaining: 11.3s\n",
      "474:\tlearn: 0.2994071\ttotal: 10.2s\tremaining: 11.2s\n",
      "475:\tlearn: 0.2990295\ttotal: 10.2s\tremaining: 11.2s\n",
      "476:\tlearn: 0.2990030\ttotal: 10.2s\tremaining: 11.2s\n",
      "477:\tlearn: 0.2987327\ttotal: 10.2s\tremaining: 11.2s\n",
      "478:\tlearn: 0.2985369\ttotal: 10.2s\tremaining: 11.1s\n",
      "479:\tlearn: 0.2984794\ttotal: 10.3s\tremaining: 11.1s\n",
      "480:\tlearn: 0.2983493\ttotal: 10.3s\tremaining: 11.1s\n"
     ]
    },
    {
     "name": "stdout",
     "output_type": "stream",
     "text": [
      "481:\tlearn: 0.2981197\ttotal: 10.3s\tremaining: 11.1s\n",
      "482:\tlearn: 0.2980507\ttotal: 10.3s\tremaining: 11.1s\n",
      "483:\tlearn: 0.2979451\ttotal: 10.3s\tremaining: 11s\n",
      "484:\tlearn: 0.2976584\ttotal: 10.4s\tremaining: 11s\n",
      "485:\tlearn: 0.2972794\ttotal: 10.4s\tremaining: 11s\n",
      "486:\tlearn: 0.2969121\ttotal: 10.4s\tremaining: 11s\n",
      "487:\tlearn: 0.2966086\ttotal: 10.4s\tremaining: 10.9s\n",
      "488:\tlearn: 0.2963613\ttotal: 10.4s\tremaining: 10.9s\n",
      "489:\tlearn: 0.2959048\ttotal: 10.5s\tremaining: 10.9s\n",
      "490:\tlearn: 0.2958932\ttotal: 10.5s\tremaining: 10.9s\n",
      "491:\tlearn: 0.2955765\ttotal: 10.5s\tremaining: 10.8s\n",
      "492:\tlearn: 0.2955186\ttotal: 10.5s\tremaining: 10.8s\n",
      "493:\tlearn: 0.2952287\ttotal: 10.5s\tremaining: 10.8s\n",
      "494:\tlearn: 0.2951508\ttotal: 10.6s\tremaining: 10.8s\n",
      "495:\tlearn: 0.2950645\ttotal: 10.6s\tremaining: 10.8s\n",
      "496:\tlearn: 0.2949887\ttotal: 10.6s\tremaining: 10.7s\n",
      "497:\tlearn: 0.2948839\ttotal: 10.6s\tremaining: 10.7s\n",
      "498:\tlearn: 0.2947899\ttotal: 10.6s\tremaining: 10.7s\n",
      "499:\tlearn: 0.2945701\ttotal: 10.7s\tremaining: 10.7s\n",
      "500:\tlearn: 0.2944518\ttotal: 10.7s\tremaining: 10.6s\n",
      "501:\tlearn: 0.2942897\ttotal: 10.7s\tremaining: 10.6s\n",
      "502:\tlearn: 0.2940118\ttotal: 10.7s\tremaining: 10.6s\n",
      "503:\tlearn: 0.2939247\ttotal: 10.7s\tremaining: 10.6s\n",
      "504:\tlearn: 0.2937529\ttotal: 10.8s\tremaining: 10.5s\n",
      "505:\tlearn: 0.2937061\ttotal: 10.8s\tremaining: 10.5s\n",
      "506:\tlearn: 0.2935669\ttotal: 10.8s\tremaining: 10.5s\n",
      "507:\tlearn: 0.2935284\ttotal: 10.8s\tremaining: 10.5s\n",
      "508:\tlearn: 0.2931052\ttotal: 10.8s\tremaining: 10.4s\n",
      "509:\tlearn: 0.2928015\ttotal: 10.8s\tremaining: 10.4s\n",
      "510:\tlearn: 0.2926438\ttotal: 10.9s\tremaining: 10.4s\n",
      "511:\tlearn: 0.2925475\ttotal: 10.9s\tremaining: 10.4s\n",
      "512:\tlearn: 0.2923460\ttotal: 10.9s\tremaining: 10.3s\n",
      "513:\tlearn: 0.2922678\ttotal: 10.9s\tremaining: 10.3s\n",
      "514:\tlearn: 0.2918349\ttotal: 10.9s\tremaining: 10.3s\n",
      "515:\tlearn: 0.2916840\ttotal: 11s\tremaining: 10.3s\n",
      "516:\tlearn: 0.2915799\ttotal: 11s\tremaining: 10.3s\n",
      "517:\tlearn: 0.2914782\ttotal: 11s\tremaining: 10.2s\n",
      "518:\tlearn: 0.2912815\ttotal: 11s\tremaining: 10.2s\n",
      "519:\tlearn: 0.2912619\ttotal: 11s\tremaining: 10.2s\n",
      "520:\tlearn: 0.2910560\ttotal: 11s\tremaining: 10.1s\n",
      "521:\tlearn: 0.2910425\ttotal: 11.1s\tremaining: 10.1s\n",
      "522:\tlearn: 0.2907545\ttotal: 11.1s\tremaining: 10.1s\n",
      "523:\tlearn: 0.2905714\ttotal: 11.1s\tremaining: 10.1s\n",
      "524:\tlearn: 0.2905302\ttotal: 11.1s\tremaining: 10.1s\n",
      "525:\tlearn: 0.2903147\ttotal: 11.1s\tremaining: 10s\n",
      "526:\tlearn: 0.2902022\ttotal: 11.2s\tremaining: 10s\n",
      "527:\tlearn: 0.2900367\ttotal: 11.2s\tremaining: 10s\n",
      "528:\tlearn: 0.2899668\ttotal: 11.2s\tremaining: 9.99s\n",
      "529:\tlearn: 0.2895725\ttotal: 11.2s\tremaining: 9.97s\n",
      "530:\tlearn: 0.2895516\ttotal: 11.3s\tremaining: 9.95s\n",
      "531:\tlearn: 0.2893603\ttotal: 11.3s\tremaining: 9.93s\n",
      "532:\tlearn: 0.2892502\ttotal: 11.3s\tremaining: 9.91s\n",
      "533:\tlearn: 0.2889281\ttotal: 11.3s\tremaining: 9.89s\n",
      "534:\tlearn: 0.2885972\ttotal: 11.4s\tremaining: 9.87s\n",
      "535:\tlearn: 0.2883507\ttotal: 11.4s\tremaining: 9.85s\n",
      "536:\tlearn: 0.2882042\ttotal: 11.4s\tremaining: 9.83s\n",
      "537:\tlearn: 0.2881418\ttotal: 11.4s\tremaining: 9.82s\n",
      "538:\tlearn: 0.2879156\ttotal: 11.5s\tremaining: 9.8s\n",
      "539:\tlearn: 0.2876421\ttotal: 11.5s\tremaining: 9.78s\n",
      "540:\tlearn: 0.2875773\ttotal: 11.5s\tremaining: 9.76s\n",
      "541:\tlearn: 0.2871850\ttotal: 11.5s\tremaining: 9.74s\n",
      "542:\tlearn: 0.2869351\ttotal: 11.6s\tremaining: 9.72s\n",
      "543:\tlearn: 0.2866211\ttotal: 11.6s\tremaining: 9.71s\n",
      "544:\tlearn: 0.2865261\ttotal: 11.6s\tremaining: 9.69s\n",
      "545:\tlearn: 0.2864654\ttotal: 11.6s\tremaining: 9.67s\n",
      "546:\tlearn: 0.2863711\ttotal: 11.7s\tremaining: 9.65s\n",
      "547:\tlearn: 0.2861829\ttotal: 11.7s\tremaining: 9.63s\n",
      "548:\tlearn: 0.2860763\ttotal: 11.7s\tremaining: 9.61s\n",
      "549:\tlearn: 0.2858784\ttotal: 11.7s\tremaining: 9.59s\n",
      "550:\tlearn: 0.2857136\ttotal: 11.7s\tremaining: 9.57s\n",
      "551:\tlearn: 0.2855784\ttotal: 11.8s\tremaining: 9.55s\n",
      "552:\tlearn: 0.2852213\ttotal: 11.8s\tremaining: 9.53s\n",
      "553:\tlearn: 0.2851500\ttotal: 11.8s\tremaining: 9.51s\n",
      "554:\tlearn: 0.2850265\ttotal: 11.8s\tremaining: 9.49s\n",
      "555:\tlearn: 0.2846769\ttotal: 11.9s\tremaining: 9.47s\n",
      "556:\tlearn: 0.2843448\ttotal: 11.9s\tremaining: 9.45s\n",
      "557:\tlearn: 0.2838307\ttotal: 11.9s\tremaining: 9.44s\n",
      "558:\tlearn: 0.2837296\ttotal: 11.9s\tremaining: 9.42s\n",
      "559:\tlearn: 0.2836284\ttotal: 12s\tremaining: 9.4s\n",
      "560:\tlearn: 0.2835608\ttotal: 12s\tremaining: 9.39s\n",
      "561:\tlearn: 0.2834588\ttotal: 12s\tremaining: 9.37s\n",
      "562:\tlearn: 0.2832971\ttotal: 12.1s\tremaining: 9.35s\n",
      "563:\tlearn: 0.2830549\ttotal: 12.1s\tremaining: 9.34s\n",
      "564:\tlearn: 0.2828740\ttotal: 12.1s\tremaining: 9.32s\n",
      "565:\tlearn: 0.2826434\ttotal: 12.1s\tremaining: 9.3s\n",
      "566:\tlearn: 0.2823982\ttotal: 12.2s\tremaining: 9.29s\n",
      "567:\tlearn: 0.2822662\ttotal: 12.2s\tremaining: 9.27s\n",
      "568:\tlearn: 0.2822039\ttotal: 12.2s\tremaining: 9.25s\n",
      "569:\tlearn: 0.2821650\ttotal: 12.2s\tremaining: 9.23s\n",
      "570:\tlearn: 0.2819661\ttotal: 12.3s\tremaining: 9.22s\n",
      "571:\tlearn: 0.2818538\ttotal: 12.3s\tremaining: 9.2s\n",
      "572:\tlearn: 0.2817536\ttotal: 12.3s\tremaining: 9.18s\n",
      "573:\tlearn: 0.2816443\ttotal: 12.3s\tremaining: 9.16s\n",
      "574:\tlearn: 0.2812054\ttotal: 12.4s\tremaining: 9.14s\n",
      "575:\tlearn: 0.2808327\ttotal: 12.4s\tremaining: 9.12s\n",
      "576:\tlearn: 0.2807672\ttotal: 12.4s\tremaining: 9.1s\n",
      "577:\tlearn: 0.2807050\ttotal: 12.4s\tremaining: 9.08s\n",
      "578:\tlearn: 0.2805025\ttotal: 12.5s\tremaining: 9.06s\n",
      "579:\tlearn: 0.2801958\ttotal: 12.5s\tremaining: 9.04s\n",
      "580:\tlearn: 0.2799868\ttotal: 12.5s\tremaining: 9.02s\n",
      "581:\tlearn: 0.2799500\ttotal: 12.5s\tremaining: 9s\n",
      "582:\tlearn: 0.2798108\ttotal: 12.6s\tremaining: 8.98s\n",
      "583:\tlearn: 0.2797160\ttotal: 12.6s\tremaining: 8.96s\n",
      "584:\tlearn: 0.2796359\ttotal: 12.6s\tremaining: 8.94s\n",
      "585:\tlearn: 0.2795491\ttotal: 12.6s\tremaining: 8.93s\n",
      "586:\tlearn: 0.2792988\ttotal: 12.7s\tremaining: 8.9s\n",
      "587:\tlearn: 0.2792293\ttotal: 12.7s\tremaining: 8.88s\n",
      "588:\tlearn: 0.2789543\ttotal: 12.7s\tremaining: 8.86s\n",
      "589:\tlearn: 0.2787997\ttotal: 12.7s\tremaining: 8.84s\n",
      "590:\tlearn: 0.2785071\ttotal: 12.7s\tremaining: 8.82s\n",
      "591:\tlearn: 0.2784604\ttotal: 12.8s\tremaining: 8.8s\n",
      "592:\tlearn: 0.2782481\ttotal: 12.8s\tremaining: 8.78s\n",
      "593:\tlearn: 0.2781934\ttotal: 12.8s\tremaining: 8.75s\n",
      "594:\tlearn: 0.2779998\ttotal: 12.8s\tremaining: 8.73s\n",
      "595:\tlearn: 0.2778088\ttotal: 12.8s\tremaining: 8.71s\n",
      "596:\tlearn: 0.2777509\ttotal: 12.9s\tremaining: 8.69s\n",
      "597:\tlearn: 0.2775531\ttotal: 12.9s\tremaining: 8.66s\n",
      "598:\tlearn: 0.2774219\ttotal: 12.9s\tremaining: 8.64s\n",
      "599:\tlearn: 0.2773908\ttotal: 12.9s\tremaining: 8.62s\n",
      "600:\tlearn: 0.2771001\ttotal: 12.9s\tremaining: 8.6s\n",
      "601:\tlearn: 0.2770138\ttotal: 13s\tremaining: 8.57s\n",
      "602:\tlearn: 0.2769197\ttotal: 13s\tremaining: 8.55s\n",
      "603:\tlearn: 0.2768545\ttotal: 13s\tremaining: 8.53s\n",
      "604:\tlearn: 0.2767730\ttotal: 13s\tremaining: 8.5s\n",
      "605:\tlearn: 0.2766672\ttotal: 13s\tremaining: 8.48s\n",
      "606:\tlearn: 0.2764525\ttotal: 13.1s\tremaining: 8.46s\n",
      "607:\tlearn: 0.2762906\ttotal: 13.1s\tremaining: 8.44s\n",
      "608:\tlearn: 0.2756428\ttotal: 13.1s\tremaining: 8.42s\n",
      "609:\tlearn: 0.2751015\ttotal: 13.1s\tremaining: 8.4s\n",
      "610:\tlearn: 0.2747068\ttotal: 13.2s\tremaining: 8.37s\n",
      "611:\tlearn: 0.2745208\ttotal: 13.2s\tremaining: 8.35s\n",
      "612:\tlearn: 0.2744640\ttotal: 13.2s\tremaining: 8.33s\n",
      "613:\tlearn: 0.2743294\ttotal: 13.2s\tremaining: 8.3s\n",
      "614:\tlearn: 0.2739215\ttotal: 13.2s\tremaining: 8.29s\n",
      "615:\tlearn: 0.2736987\ttotal: 13.3s\tremaining: 8.26s\n",
      "616:\tlearn: 0.2735388\ttotal: 13.3s\tremaining: 8.24s\n",
      "617:\tlearn: 0.2733383\ttotal: 13.3s\tremaining: 8.22s\n",
      "618:\tlearn: 0.2732265\ttotal: 13.3s\tremaining: 8.2s\n",
      "619:\tlearn: 0.2730660\ttotal: 13.3s\tremaining: 8.17s\n",
      "620:\tlearn: 0.2730214\ttotal: 13.4s\tremaining: 8.15s\n",
      "621:\tlearn: 0.2727106\ttotal: 13.4s\tremaining: 8.13s\n",
      "622:\tlearn: 0.2726204\ttotal: 13.4s\tremaining: 8.1s\n",
      "623:\tlearn: 0.2725933\ttotal: 13.4s\tremaining: 8.08s\n",
      "624:\tlearn: 0.2722943\ttotal: 13.4s\tremaining: 8.06s\n",
      "625:\tlearn: 0.2720346\ttotal: 13.5s\tremaining: 8.04s\n",
      "626:\tlearn: 0.2719872\ttotal: 13.5s\tremaining: 8.02s\n",
      "627:\tlearn: 0.2717170\ttotal: 13.5s\tremaining: 8s\n",
      "628:\tlearn: 0.2716985\ttotal: 13.5s\tremaining: 7.97s\n",
      "629:\tlearn: 0.2712185\ttotal: 13.5s\tremaining: 7.95s\n",
      "630:\tlearn: 0.2711069\ttotal: 13.6s\tremaining: 7.93s\n",
      "631:\tlearn: 0.2710355\ttotal: 13.6s\tremaining: 7.9s\n",
      "632:\tlearn: 0.2708175\ttotal: 13.6s\tremaining: 7.88s\n",
      "633:\tlearn: 0.2707592\ttotal: 13.6s\tremaining: 7.86s\n",
      "634:\tlearn: 0.2705553\ttotal: 13.6s\tremaining: 7.84s\n",
      "635:\tlearn: 0.2704266\ttotal: 13.7s\tremaining: 7.82s\n",
      "636:\tlearn: 0.2702330\ttotal: 13.7s\tremaining: 7.8s\n",
      "637:\tlearn: 0.2701459\ttotal: 13.7s\tremaining: 7.77s\n",
      "638:\tlearn: 0.2698755\ttotal: 13.7s\tremaining: 7.75s\n",
      "639:\tlearn: 0.2698437\ttotal: 13.7s\tremaining: 7.73s\n"
     ]
    },
    {
     "name": "stdout",
     "output_type": "stream",
     "text": [
      "640:\tlearn: 0.2696871\ttotal: 13.8s\tremaining: 7.71s\n",
      "641:\tlearn: 0.2695011\ttotal: 13.8s\tremaining: 7.68s\n",
      "642:\tlearn: 0.2692619\ttotal: 13.8s\tremaining: 7.66s\n",
      "643:\tlearn: 0.2691176\ttotal: 13.8s\tremaining: 7.64s\n",
      "644:\tlearn: 0.2688368\ttotal: 13.8s\tremaining: 7.62s\n",
      "645:\tlearn: 0.2687778\ttotal: 13.9s\tremaining: 7.6s\n",
      "646:\tlearn: 0.2687556\ttotal: 13.9s\tremaining: 7.58s\n",
      "647:\tlearn: 0.2686184\ttotal: 13.9s\tremaining: 7.55s\n",
      "648:\tlearn: 0.2684778\ttotal: 13.9s\tremaining: 7.53s\n",
      "649:\tlearn: 0.2684496\ttotal: 13.9s\tremaining: 7.51s\n",
      "650:\tlearn: 0.2683567\ttotal: 14s\tremaining: 7.49s\n",
      "651:\tlearn: 0.2682188\ttotal: 14s\tremaining: 7.47s\n",
      "652:\tlearn: 0.2681053\ttotal: 14s\tremaining: 7.45s\n",
      "653:\tlearn: 0.2678716\ttotal: 14s\tremaining: 7.43s\n",
      "654:\tlearn: 0.2675452\ttotal: 14.1s\tremaining: 7.41s\n",
      "655:\tlearn: 0.2674454\ttotal: 14.1s\tremaining: 7.38s\n",
      "656:\tlearn: 0.2671925\ttotal: 14.1s\tremaining: 7.36s\n",
      "657:\tlearn: 0.2670267\ttotal: 14.1s\tremaining: 7.34s\n",
      "658:\tlearn: 0.2666833\ttotal: 14.1s\tremaining: 7.31s\n",
      "659:\tlearn: 0.2663511\ttotal: 14.2s\tremaining: 7.29s\n",
      "660:\tlearn: 0.2662955\ttotal: 14.2s\tremaining: 7.27s\n",
      "661:\tlearn: 0.2659147\ttotal: 14.2s\tremaining: 7.25s\n",
      "662:\tlearn: 0.2658037\ttotal: 14.2s\tremaining: 7.23s\n",
      "663:\tlearn: 0.2654921\ttotal: 14.3s\tremaining: 7.21s\n",
      "664:\tlearn: 0.2654503\ttotal: 14.3s\tremaining: 7.19s\n",
      "665:\tlearn: 0.2653269\ttotal: 14.3s\tremaining: 7.17s\n",
      "666:\tlearn: 0.2648927\ttotal: 14.3s\tremaining: 7.15s\n",
      "667:\tlearn: 0.2648079\ttotal: 14.3s\tremaining: 7.13s\n",
      "668:\tlearn: 0.2644806\ttotal: 14.4s\tremaining: 7.11s\n",
      "669:\tlearn: 0.2644149\ttotal: 14.4s\tremaining: 7.09s\n",
      "670:\tlearn: 0.2640379\ttotal: 14.4s\tremaining: 7.07s\n",
      "671:\tlearn: 0.2639727\ttotal: 14.4s\tremaining: 7.05s\n",
      "672:\tlearn: 0.2636836\ttotal: 14.5s\tremaining: 7.03s\n",
      "673:\tlearn: 0.2631185\ttotal: 14.5s\tremaining: 7.01s\n",
      "674:\tlearn: 0.2629928\ttotal: 14.5s\tremaining: 6.99s\n",
      "675:\tlearn: 0.2628365\ttotal: 14.5s\tremaining: 6.97s\n",
      "676:\tlearn: 0.2625182\ttotal: 14.6s\tremaining: 6.95s\n",
      "677:\tlearn: 0.2623548\ttotal: 14.6s\tremaining: 6.92s\n",
      "678:\tlearn: 0.2622560\ttotal: 14.6s\tremaining: 6.91s\n",
      "679:\tlearn: 0.2619742\ttotal: 14.6s\tremaining: 6.89s\n",
      "680:\tlearn: 0.2618118\ttotal: 14.7s\tremaining: 6.87s\n",
      "681:\tlearn: 0.2616240\ttotal: 14.7s\tremaining: 6.85s\n",
      "682:\tlearn: 0.2616107\ttotal: 14.7s\tremaining: 6.83s\n",
      "683:\tlearn: 0.2614589\ttotal: 14.7s\tremaining: 6.81s\n",
      "684:\tlearn: 0.2613734\ttotal: 14.8s\tremaining: 6.79s\n",
      "685:\tlearn: 0.2612226\ttotal: 14.8s\tremaining: 6.77s\n",
      "686:\tlearn: 0.2610632\ttotal: 14.8s\tremaining: 6.75s\n",
      "687:\tlearn: 0.2608641\ttotal: 14.8s\tremaining: 6.73s\n",
      "688:\tlearn: 0.2606337\ttotal: 14.9s\tremaining: 6.71s\n",
      "689:\tlearn: 0.2602631\ttotal: 14.9s\tremaining: 6.69s\n",
      "690:\tlearn: 0.2596295\ttotal: 14.9s\tremaining: 6.67s\n",
      "691:\tlearn: 0.2591320\ttotal: 14.9s\tremaining: 6.64s\n",
      "692:\tlearn: 0.2589687\ttotal: 14.9s\tremaining: 6.62s\n",
      "693:\tlearn: 0.2587614\ttotal: 15s\tremaining: 6.6s\n",
      "694:\tlearn: 0.2585047\ttotal: 15s\tremaining: 6.58s\n",
      "695:\tlearn: 0.2582244\ttotal: 15s\tremaining: 6.56s\n",
      "696:\tlearn: 0.2581720\ttotal: 15s\tremaining: 6.54s\n",
      "697:\tlearn: 0.2580224\ttotal: 15.1s\tremaining: 6.52s\n",
      "698:\tlearn: 0.2579425\ttotal: 15.1s\tremaining: 6.5s\n",
      "699:\tlearn: 0.2578737\ttotal: 15.1s\tremaining: 6.48s\n",
      "700:\tlearn: 0.2577954\ttotal: 15.1s\tremaining: 6.46s\n",
      "701:\tlearn: 0.2575824\ttotal: 15.2s\tremaining: 6.44s\n",
      "702:\tlearn: 0.2574987\ttotal: 15.2s\tremaining: 6.42s\n",
      "703:\tlearn: 0.2574372\ttotal: 15.2s\tremaining: 6.39s\n",
      "704:\tlearn: 0.2573388\ttotal: 15.2s\tremaining: 6.37s\n",
      "705:\tlearn: 0.2571941\ttotal: 15.3s\tremaining: 6.35s\n",
      "706:\tlearn: 0.2570184\ttotal: 15.3s\tremaining: 6.33s\n",
      "707:\tlearn: 0.2568942\ttotal: 15.3s\tremaining: 6.31s\n",
      "708:\tlearn: 0.2566033\ttotal: 15.3s\tremaining: 6.29s\n",
      "709:\tlearn: 0.2564727\ttotal: 15.4s\tremaining: 6.27s\n",
      "710:\tlearn: 0.2563750\ttotal: 15.4s\tremaining: 6.25s\n",
      "711:\tlearn: 0.2563489\ttotal: 15.4s\tremaining: 6.23s\n",
      "712:\tlearn: 0.2562565\ttotal: 15.4s\tremaining: 6.21s\n",
      "713:\tlearn: 0.2560062\ttotal: 15.4s\tremaining: 6.18s\n",
      "714:\tlearn: 0.2558898\ttotal: 15.5s\tremaining: 6.16s\n",
      "715:\tlearn: 0.2556643\ttotal: 15.5s\tremaining: 6.14s\n",
      "716:\tlearn: 0.2555466\ttotal: 15.5s\tremaining: 6.12s\n",
      "717:\tlearn: 0.2552904\ttotal: 15.5s\tremaining: 6.1s\n",
      "718:\tlearn: 0.2551185\ttotal: 15.5s\tremaining: 6.08s\n",
      "719:\tlearn: 0.2550239\ttotal: 15.6s\tremaining: 6.05s\n",
      "720:\tlearn: 0.2548127\ttotal: 15.6s\tremaining: 6.03s\n",
      "721:\tlearn: 0.2547478\ttotal: 15.6s\tremaining: 6.01s\n",
      "722:\tlearn: 0.2546915\ttotal: 15.6s\tremaining: 5.98s\n",
      "723:\tlearn: 0.2545617\ttotal: 15.6s\tremaining: 5.96s\n",
      "724:\tlearn: 0.2545070\ttotal: 15.7s\tremaining: 5.94s\n",
      "725:\tlearn: 0.2543559\ttotal: 15.7s\tremaining: 5.92s\n",
      "726:\tlearn: 0.2543356\ttotal: 15.7s\tremaining: 5.9s\n",
      "727:\tlearn: 0.2540340\ttotal: 15.7s\tremaining: 5.88s\n",
      "728:\tlearn: 0.2538757\ttotal: 15.7s\tremaining: 5.85s\n",
      "729:\tlearn: 0.2537684\ttotal: 15.8s\tremaining: 5.83s\n",
      "730:\tlearn: 0.2536230\ttotal: 15.8s\tremaining: 5.81s\n",
      "731:\tlearn: 0.2535937\ttotal: 15.8s\tremaining: 5.79s\n",
      "732:\tlearn: 0.2531452\ttotal: 15.8s\tremaining: 5.76s\n",
      "733:\tlearn: 0.2530410\ttotal: 15.8s\tremaining: 5.74s\n",
      "734:\tlearn: 0.2528501\ttotal: 15.9s\tremaining: 5.72s\n",
      "735:\tlearn: 0.2526365\ttotal: 15.9s\tremaining: 5.7s\n",
      "736:\tlearn: 0.2521319\ttotal: 15.9s\tremaining: 5.68s\n",
      "737:\tlearn: 0.2519075\ttotal: 15.9s\tremaining: 5.65s\n",
      "738:\tlearn: 0.2518788\ttotal: 15.9s\tremaining: 5.63s\n",
      "739:\tlearn: 0.2516413\ttotal: 16s\tremaining: 5.61s\n",
      "740:\tlearn: 0.2514699\ttotal: 16s\tremaining: 5.59s\n",
      "741:\tlearn: 0.2512451\ttotal: 16s\tremaining: 5.57s\n",
      "742:\tlearn: 0.2511849\ttotal: 16s\tremaining: 5.55s\n",
      "743:\tlearn: 0.2508706\ttotal: 16.1s\tremaining: 5.53s\n",
      "744:\tlearn: 0.2507167\ttotal: 16.1s\tremaining: 5.51s\n",
      "745:\tlearn: 0.2505130\ttotal: 16.1s\tremaining: 5.49s\n",
      "746:\tlearn: 0.2503478\ttotal: 16.1s\tremaining: 5.46s\n",
      "747:\tlearn: 0.2498738\ttotal: 16.2s\tremaining: 5.44s\n",
      "748:\tlearn: 0.2495696\ttotal: 16.2s\tremaining: 5.42s\n",
      "749:\tlearn: 0.2492794\ttotal: 16.2s\tremaining: 5.4s\n",
      "750:\tlearn: 0.2491108\ttotal: 16.2s\tremaining: 5.37s\n",
      "751:\tlearn: 0.2490550\ttotal: 16.2s\tremaining: 5.35s\n",
      "752:\tlearn: 0.2484700\ttotal: 16.2s\tremaining: 5.33s\n",
      "753:\tlearn: 0.2482374\ttotal: 16.3s\tremaining: 5.31s\n",
      "754:\tlearn: 0.2482125\ttotal: 16.3s\tremaining: 5.29s\n",
      "755:\tlearn: 0.2480303\ttotal: 16.3s\tremaining: 5.27s\n",
      "756:\tlearn: 0.2479110\ttotal: 16.3s\tremaining: 5.24s\n",
      "757:\tlearn: 0.2476408\ttotal: 16.4s\tremaining: 5.22s\n",
      "758:\tlearn: 0.2472719\ttotal: 16.4s\tremaining: 5.2s\n",
      "759:\tlearn: 0.2469585\ttotal: 16.4s\tremaining: 5.18s\n",
      "760:\tlearn: 0.2467329\ttotal: 16.4s\tremaining: 5.16s\n",
      "761:\tlearn: 0.2466650\ttotal: 16.4s\tremaining: 5.13s\n",
      "762:\tlearn: 0.2465926\ttotal: 16.5s\tremaining: 5.11s\n",
      "763:\tlearn: 0.2465113\ttotal: 16.5s\tremaining: 5.09s\n",
      "764:\tlearn: 0.2462971\ttotal: 16.5s\tremaining: 5.07s\n",
      "765:\tlearn: 0.2461321\ttotal: 16.5s\tremaining: 5.05s\n",
      "766:\tlearn: 0.2461106\ttotal: 16.6s\tremaining: 5.03s\n",
      "767:\tlearn: 0.2459978\ttotal: 16.6s\tremaining: 5.01s\n",
      "768:\tlearn: 0.2457864\ttotal: 16.6s\tremaining: 4.99s\n",
      "769:\tlearn: 0.2453504\ttotal: 16.6s\tremaining: 4.96s\n",
      "770:\tlearn: 0.2452631\ttotal: 16.6s\tremaining: 4.94s\n",
      "771:\tlearn: 0.2450376\ttotal: 16.7s\tremaining: 4.92s\n",
      "772:\tlearn: 0.2449397\ttotal: 16.7s\tremaining: 4.9s\n",
      "773:\tlearn: 0.2448742\ttotal: 16.7s\tremaining: 4.88s\n",
      "774:\tlearn: 0.2448275\ttotal: 16.8s\tremaining: 4.86s\n",
      "775:\tlearn: 0.2447171\ttotal: 16.8s\tremaining: 4.84s\n",
      "776:\tlearn: 0.2446075\ttotal: 16.8s\tremaining: 4.82s\n",
      "777:\tlearn: 0.2444823\ttotal: 16.8s\tremaining: 4.8s\n",
      "778:\tlearn: 0.2442870\ttotal: 16.9s\tremaining: 4.78s\n",
      "779:\tlearn: 0.2442216\ttotal: 16.9s\tremaining: 4.76s\n",
      "780:\tlearn: 0.2439682\ttotal: 16.9s\tremaining: 4.74s\n",
      "781:\tlearn: 0.2436942\ttotal: 16.9s\tremaining: 4.72s\n",
      "782:\tlearn: 0.2436454\ttotal: 17s\tremaining: 4.7s\n",
      "783:\tlearn: 0.2436171\ttotal: 17s\tremaining: 4.68s\n",
      "784:\tlearn: 0.2435027\ttotal: 17s\tremaining: 4.66s\n",
      "785:\tlearn: 0.2434154\ttotal: 17s\tremaining: 4.64s\n",
      "786:\tlearn: 0.2433653\ttotal: 17.1s\tremaining: 4.62s\n",
      "787:\tlearn: 0.2430191\ttotal: 17.1s\tremaining: 4.6s\n",
      "788:\tlearn: 0.2429302\ttotal: 17.1s\tremaining: 4.58s\n",
      "789:\tlearn: 0.2426429\ttotal: 17.1s\tremaining: 4.56s\n",
      "790:\tlearn: 0.2426215\ttotal: 17.2s\tremaining: 4.54s\n",
      "791:\tlearn: 0.2424755\ttotal: 17.2s\tremaining: 4.51s\n",
      "792:\tlearn: 0.2422806\ttotal: 17.2s\tremaining: 4.49s\n",
      "793:\tlearn: 0.2422537\ttotal: 17.2s\tremaining: 4.47s\n",
      "794:\tlearn: 0.2421780\ttotal: 17.3s\tremaining: 4.45s\n",
      "795:\tlearn: 0.2420104\ttotal: 17.3s\tremaining: 4.43s\n",
      "796:\tlearn: 0.2419653\ttotal: 17.3s\tremaining: 4.41s\n",
      "797:\tlearn: 0.2416093\ttotal: 17.3s\tremaining: 4.39s\n",
      "798:\tlearn: 0.2412773\ttotal: 17.4s\tremaining: 4.37s\n"
     ]
    },
    {
     "name": "stdout",
     "output_type": "stream",
     "text": [
      "799:\tlearn: 0.2410162\ttotal: 17.4s\tremaining: 4.35s\n",
      "800:\tlearn: 0.2405731\ttotal: 17.4s\tremaining: 4.33s\n",
      "801:\tlearn: 0.2404306\ttotal: 17.4s\tremaining: 4.3s\n",
      "802:\tlearn: 0.2404013\ttotal: 17.5s\tremaining: 4.28s\n",
      "803:\tlearn: 0.2400979\ttotal: 17.5s\tremaining: 4.26s\n",
      "804:\tlearn: 0.2400517\ttotal: 17.5s\tremaining: 4.24s\n",
      "805:\tlearn: 0.2398236\ttotal: 17.5s\tremaining: 4.22s\n",
      "806:\tlearn: 0.2397373\ttotal: 17.6s\tremaining: 4.2s\n",
      "807:\tlearn: 0.2397052\ttotal: 17.6s\tremaining: 4.18s\n",
      "808:\tlearn: 0.2393912\ttotal: 17.6s\tremaining: 4.16s\n",
      "809:\tlearn: 0.2392796\ttotal: 17.6s\tremaining: 4.14s\n",
      "810:\tlearn: 0.2390235\ttotal: 17.7s\tremaining: 4.11s\n",
      "811:\tlearn: 0.2388151\ttotal: 17.7s\tremaining: 4.09s\n",
      "812:\tlearn: 0.2386604\ttotal: 17.7s\tremaining: 4.07s\n",
      "813:\tlearn: 0.2385022\ttotal: 17.7s\tremaining: 4.05s\n",
      "814:\tlearn: 0.2383943\ttotal: 17.7s\tremaining: 4.03s\n",
      "815:\tlearn: 0.2382309\ttotal: 17.8s\tremaining: 4s\n",
      "816:\tlearn: 0.2379940\ttotal: 17.8s\tremaining: 3.98s\n",
      "817:\tlearn: 0.2378618\ttotal: 17.8s\tremaining: 3.96s\n",
      "818:\tlearn: 0.2377779\ttotal: 17.8s\tremaining: 3.94s\n",
      "819:\tlearn: 0.2377255\ttotal: 17.9s\tremaining: 3.92s\n",
      "820:\tlearn: 0.2375875\ttotal: 17.9s\tremaining: 3.9s\n",
      "821:\tlearn: 0.2375084\ttotal: 17.9s\tremaining: 3.88s\n",
      "822:\tlearn: 0.2374343\ttotal: 17.9s\tremaining: 3.85s\n",
      "823:\tlearn: 0.2371921\ttotal: 17.9s\tremaining: 3.83s\n",
      "824:\tlearn: 0.2370326\ttotal: 18s\tremaining: 3.81s\n",
      "825:\tlearn: 0.2369478\ttotal: 18s\tremaining: 3.79s\n",
      "826:\tlearn: 0.2367990\ttotal: 18s\tremaining: 3.77s\n",
      "827:\tlearn: 0.2364266\ttotal: 18s\tremaining: 3.74s\n",
      "828:\tlearn: 0.2363404\ttotal: 18s\tremaining: 3.72s\n",
      "829:\tlearn: 0.2360632\ttotal: 18.1s\tremaining: 3.7s\n",
      "830:\tlearn: 0.2359506\ttotal: 18.1s\tremaining: 3.68s\n",
      "831:\tlearn: 0.2356114\ttotal: 18.1s\tremaining: 3.65s\n",
      "832:\tlearn: 0.2354953\ttotal: 18.1s\tremaining: 3.63s\n",
      "833:\tlearn: 0.2353787\ttotal: 18.1s\tremaining: 3.61s\n",
      "834:\tlearn: 0.2352064\ttotal: 18.2s\tremaining: 3.59s\n",
      "835:\tlearn: 0.2351304\ttotal: 18.2s\tremaining: 3.57s\n",
      "836:\tlearn: 0.2348862\ttotal: 18.2s\tremaining: 3.55s\n",
      "837:\tlearn: 0.2348159\ttotal: 18.2s\tremaining: 3.52s\n",
      "838:\tlearn: 0.2344203\ttotal: 18.2s\tremaining: 3.5s\n",
      "839:\tlearn: 0.2343689\ttotal: 18.3s\tremaining: 3.48s\n",
      "840:\tlearn: 0.2342310\ttotal: 18.3s\tremaining: 3.46s\n",
      "841:\tlearn: 0.2342284\ttotal: 18.3s\tremaining: 3.43s\n",
      "842:\tlearn: 0.2341762\ttotal: 18.3s\tremaining: 3.41s\n",
      "843:\tlearn: 0.2338910\ttotal: 18.3s\tremaining: 3.39s\n",
      "844:\tlearn: 0.2337647\ttotal: 18.4s\tremaining: 3.37s\n",
      "845:\tlearn: 0.2337481\ttotal: 18.4s\tremaining: 3.35s\n",
      "846:\tlearn: 0.2337033\ttotal: 18.4s\tremaining: 3.33s\n",
      "847:\tlearn: 0.2336591\ttotal: 18.4s\tremaining: 3.3s\n",
      "848:\tlearn: 0.2334983\ttotal: 18.5s\tremaining: 3.28s\n",
      "849:\tlearn: 0.2333828\ttotal: 18.5s\tremaining: 3.26s\n",
      "850:\tlearn: 0.2332298\ttotal: 18.5s\tremaining: 3.24s\n",
      "851:\tlearn: 0.2330637\ttotal: 18.5s\tremaining: 3.22s\n",
      "852:\tlearn: 0.2328928\ttotal: 18.6s\tremaining: 3.2s\n",
      "853:\tlearn: 0.2328241\ttotal: 18.6s\tremaining: 3.18s\n",
      "854:\tlearn: 0.2326619\ttotal: 18.6s\tremaining: 3.15s\n",
      "855:\tlearn: 0.2322820\ttotal: 18.6s\tremaining: 3.13s\n",
      "856:\tlearn: 0.2319318\ttotal: 18.6s\tremaining: 3.11s\n",
      "857:\tlearn: 0.2316242\ttotal: 18.7s\tremaining: 3.09s\n",
      "858:\tlearn: 0.2313329\ttotal: 18.7s\tremaining: 3.07s\n",
      "859:\tlearn: 0.2309690\ttotal: 18.7s\tremaining: 3.05s\n",
      "860:\tlearn: 0.2307308\ttotal: 18.7s\tremaining: 3.03s\n",
      "861:\tlearn: 0.2305317\ttotal: 18.8s\tremaining: 3s\n",
      "862:\tlearn: 0.2304555\ttotal: 18.8s\tremaining: 2.98s\n",
      "863:\tlearn: 0.2302514\ttotal: 18.8s\tremaining: 2.96s\n",
      "864:\tlearn: 0.2301229\ttotal: 18.8s\tremaining: 2.94s\n",
      "865:\tlearn: 0.2300631\ttotal: 18.9s\tremaining: 2.92s\n",
      "866:\tlearn: 0.2299311\ttotal: 18.9s\tremaining: 2.9s\n",
      "867:\tlearn: 0.2297518\ttotal: 18.9s\tremaining: 2.88s\n",
      "868:\tlearn: 0.2295178\ttotal: 18.9s\tremaining: 2.85s\n",
      "869:\tlearn: 0.2291142\ttotal: 19s\tremaining: 2.83s\n",
      "870:\tlearn: 0.2291112\ttotal: 19s\tremaining: 2.81s\n",
      "871:\tlearn: 0.2289262\ttotal: 19s\tremaining: 2.79s\n",
      "872:\tlearn: 0.2283931\ttotal: 19s\tremaining: 2.77s\n",
      "873:\tlearn: 0.2281700\ttotal: 19.1s\tremaining: 2.75s\n",
      "874:\tlearn: 0.2281032\ttotal: 19.1s\tremaining: 2.73s\n",
      "875:\tlearn: 0.2280421\ttotal: 19.1s\tremaining: 2.7s\n",
      "876:\tlearn: 0.2279477\ttotal: 19.1s\tremaining: 2.68s\n",
      "877:\tlearn: 0.2279324\ttotal: 19.2s\tremaining: 2.66s\n",
      "878:\tlearn: 0.2277582\ttotal: 19.2s\tremaining: 2.64s\n",
      "879:\tlearn: 0.2276028\ttotal: 19.2s\tremaining: 2.62s\n",
      "880:\tlearn: 0.2273514\ttotal: 19.2s\tremaining: 2.6s\n",
      "881:\tlearn: 0.2272335\ttotal: 19.3s\tremaining: 2.58s\n",
      "882:\tlearn: 0.2271909\ttotal: 19.3s\tremaining: 2.55s\n",
      "883:\tlearn: 0.2271185\ttotal: 19.3s\tremaining: 2.53s\n",
      "884:\tlearn: 0.2270439\ttotal: 19.3s\tremaining: 2.51s\n",
      "885:\tlearn: 0.2268867\ttotal: 19.4s\tremaining: 2.49s\n",
      "886:\tlearn: 0.2268614\ttotal: 19.4s\tremaining: 2.47s\n",
      "887:\tlearn: 0.2268313\ttotal: 19.4s\tremaining: 2.45s\n",
      "888:\tlearn: 0.2267361\ttotal: 19.4s\tremaining: 2.42s\n",
      "889:\tlearn: 0.2266897\ttotal: 19.4s\tremaining: 2.4s\n",
      "890:\tlearn: 0.2266640\ttotal: 19.5s\tremaining: 2.38s\n",
      "891:\tlearn: 0.2263545\ttotal: 19.5s\tremaining: 2.36s\n",
      "892:\tlearn: 0.2261760\ttotal: 19.5s\tremaining: 2.34s\n",
      "893:\tlearn: 0.2260903\ttotal: 19.5s\tremaining: 2.32s\n",
      "894:\tlearn: 0.2260284\ttotal: 19.6s\tremaining: 2.29s\n",
      "895:\tlearn: 0.2260124\ttotal: 19.6s\tremaining: 2.27s\n",
      "896:\tlearn: 0.2258386\ttotal: 19.6s\tremaining: 2.25s\n",
      "897:\tlearn: 0.2257915\ttotal: 19.6s\tremaining: 2.23s\n",
      "898:\tlearn: 0.2255683\ttotal: 19.6s\tremaining: 2.21s\n",
      "899:\tlearn: 0.2255329\ttotal: 19.7s\tremaining: 2.19s\n",
      "900:\tlearn: 0.2254789\ttotal: 19.7s\tremaining: 2.16s\n",
      "901:\tlearn: 0.2253065\ttotal: 19.7s\tremaining: 2.14s\n",
      "902:\tlearn: 0.2251751\ttotal: 19.7s\tremaining: 2.12s\n",
      "903:\tlearn: 0.2250424\ttotal: 19.8s\tremaining: 2.1s\n",
      "904:\tlearn: 0.2248748\ttotal: 19.8s\tremaining: 2.08s\n",
      "905:\tlearn: 0.2242904\ttotal: 19.8s\tremaining: 2.05s\n",
      "906:\tlearn: 0.2241978\ttotal: 19.8s\tremaining: 2.03s\n",
      "907:\tlearn: 0.2241710\ttotal: 19.8s\tremaining: 2.01s\n",
      "908:\tlearn: 0.2238129\ttotal: 19.9s\tremaining: 1.99s\n",
      "909:\tlearn: 0.2237842\ttotal: 19.9s\tremaining: 1.97s\n",
      "910:\tlearn: 0.2235305\ttotal: 19.9s\tremaining: 1.94s\n",
      "911:\tlearn: 0.2233537\ttotal: 19.9s\tremaining: 1.92s\n",
      "912:\tlearn: 0.2231432\ttotal: 19.9s\tremaining: 1.9s\n",
      "913:\tlearn: 0.2230245\ttotal: 20s\tremaining: 1.88s\n",
      "914:\tlearn: 0.2228755\ttotal: 20s\tremaining: 1.85s\n",
      "915:\tlearn: 0.2226656\ttotal: 20s\tremaining: 1.83s\n",
      "916:\tlearn: 0.2225784\ttotal: 20s\tremaining: 1.81s\n",
      "917:\tlearn: 0.2225077\ttotal: 20s\tremaining: 1.79s\n",
      "918:\tlearn: 0.2222410\ttotal: 20s\tremaining: 1.77s\n",
      "919:\tlearn: 0.2221084\ttotal: 20.1s\tremaining: 1.74s\n",
      "920:\tlearn: 0.2220977\ttotal: 20.1s\tremaining: 1.72s\n",
      "921:\tlearn: 0.2220776\ttotal: 20.1s\tremaining: 1.7s\n",
      "922:\tlearn: 0.2218491\ttotal: 20.1s\tremaining: 1.68s\n",
      "923:\tlearn: 0.2216411\ttotal: 20.1s\tremaining: 1.66s\n",
      "924:\tlearn: 0.2216392\ttotal: 20.2s\tremaining: 1.63s\n",
      "925:\tlearn: 0.2214966\ttotal: 20.2s\tremaining: 1.61s\n",
      "926:\tlearn: 0.2214454\ttotal: 20.2s\tremaining: 1.59s\n",
      "927:\tlearn: 0.2211339\ttotal: 20.2s\tremaining: 1.57s\n",
      "928:\tlearn: 0.2210273\ttotal: 20.2s\tremaining: 1.55s\n",
      "929:\tlearn: 0.2209884\ttotal: 20.3s\tremaining: 1.52s\n",
      "930:\tlearn: 0.2209653\ttotal: 20.3s\tremaining: 1.5s\n",
      "931:\tlearn: 0.2209106\ttotal: 20.3s\tremaining: 1.48s\n",
      "932:\tlearn: 0.2207200\ttotal: 20.3s\tremaining: 1.46s\n",
      "933:\tlearn: 0.2206546\ttotal: 20.3s\tremaining: 1.44s\n",
      "934:\tlearn: 0.2204071\ttotal: 20.3s\tremaining: 1.41s\n",
      "935:\tlearn: 0.2204033\ttotal: 20.4s\tremaining: 1.39s\n",
      "936:\tlearn: 0.2202854\ttotal: 20.4s\tremaining: 1.37s\n",
      "937:\tlearn: 0.2201925\ttotal: 20.4s\tremaining: 1.35s\n",
      "938:\tlearn: 0.2201313\ttotal: 20.4s\tremaining: 1.33s\n",
      "939:\tlearn: 0.2198596\ttotal: 20.4s\tremaining: 1.3s\n",
      "940:\tlearn: 0.2197892\ttotal: 20.5s\tremaining: 1.28s\n",
      "941:\tlearn: 0.2194564\ttotal: 20.5s\tremaining: 1.26s\n",
      "942:\tlearn: 0.2192393\ttotal: 20.5s\tremaining: 1.24s\n",
      "943:\tlearn: 0.2192205\ttotal: 20.5s\tremaining: 1.22s\n",
      "944:\tlearn: 0.2191707\ttotal: 20.5s\tremaining: 1.2s\n",
      "945:\tlearn: 0.2189482\ttotal: 20.6s\tremaining: 1.17s\n",
      "946:\tlearn: 0.2188147\ttotal: 20.6s\tremaining: 1.15s\n",
      "947:\tlearn: 0.2186735\ttotal: 20.6s\tremaining: 1.13s\n",
      "948:\tlearn: 0.2186478\ttotal: 20.6s\tremaining: 1.11s\n",
      "949:\tlearn: 0.2183686\ttotal: 20.6s\tremaining: 1.08s\n",
      "950:\tlearn: 0.2182283\ttotal: 20.6s\tremaining: 1.06s\n",
      "951:\tlearn: 0.2182061\ttotal: 20.7s\tremaining: 1.04s\n",
      "952:\tlearn: 0.2178130\ttotal: 20.7s\tremaining: 1.02s\n",
      "953:\tlearn: 0.2176866\ttotal: 20.7s\tremaining: 998ms\n",
      "954:\tlearn: 0.2175979\ttotal: 20.7s\tremaining: 977ms\n",
      "955:\tlearn: 0.2171729\ttotal: 20.7s\tremaining: 955ms\n",
      "956:\tlearn: 0.2170135\ttotal: 20.8s\tremaining: 933ms\n",
      "957:\tlearn: 0.2169646\ttotal: 20.8s\tremaining: 911ms\n",
      "958:\tlearn: 0.2169566\ttotal: 20.8s\tremaining: 890ms\n",
      "959:\tlearn: 0.2167120\ttotal: 20.8s\tremaining: 868ms\n"
     ]
    },
    {
     "name": "stdout",
     "output_type": "stream",
     "text": [
      "960:\tlearn: 0.2166179\ttotal: 20.9s\tremaining: 846ms\n",
      "961:\tlearn: 0.2165385\ttotal: 20.9s\tremaining: 825ms\n",
      "962:\tlearn: 0.2163976\ttotal: 20.9s\tremaining: 803ms\n",
      "963:\tlearn: 0.2161840\ttotal: 20.9s\tremaining: 781ms\n",
      "964:\tlearn: 0.2160228\ttotal: 20.9s\tremaining: 759ms\n",
      "965:\tlearn: 0.2158850\ttotal: 21s\tremaining: 738ms\n",
      "966:\tlearn: 0.2158204\ttotal: 21s\tremaining: 716ms\n",
      "967:\tlearn: 0.2156522\ttotal: 21s\tremaining: 694ms\n",
      "968:\tlearn: 0.2154518\ttotal: 21s\tremaining: 673ms\n",
      "969:\tlearn: 0.2153798\ttotal: 21s\tremaining: 651ms\n",
      "970:\tlearn: 0.2152541\ttotal: 21.1s\tremaining: 629ms\n",
      "971:\tlearn: 0.2151524\ttotal: 21.1s\tremaining: 608ms\n",
      "972:\tlearn: 0.2150787\ttotal: 21.1s\tremaining: 586ms\n",
      "973:\tlearn: 0.2150120\ttotal: 21.1s\tremaining: 564ms\n",
      "974:\tlearn: 0.2145957\ttotal: 21.2s\tremaining: 542ms\n",
      "975:\tlearn: 0.2145641\ttotal: 21.2s\tremaining: 521ms\n",
      "976:\tlearn: 0.2143788\ttotal: 21.2s\tremaining: 499ms\n",
      "977:\tlearn: 0.2142369\ttotal: 21.2s\tremaining: 477ms\n",
      "978:\tlearn: 0.2141609\ttotal: 21.2s\tremaining: 456ms\n",
      "979:\tlearn: 0.2140130\ttotal: 21.3s\tremaining: 434ms\n",
      "980:\tlearn: 0.2139581\ttotal: 21.3s\tremaining: 412ms\n",
      "981:\tlearn: 0.2137574\ttotal: 21.3s\tremaining: 391ms\n",
      "982:\tlearn: 0.2136036\ttotal: 21.3s\tremaining: 369ms\n",
      "983:\tlearn: 0.2135821\ttotal: 21.4s\tremaining: 347ms\n",
      "984:\tlearn: 0.2133698\ttotal: 21.4s\tremaining: 326ms\n",
      "985:\tlearn: 0.2131832\ttotal: 21.4s\tremaining: 304ms\n",
      "986:\tlearn: 0.2128883\ttotal: 21.4s\tremaining: 282ms\n",
      "987:\tlearn: 0.2128340\ttotal: 21.5s\tremaining: 261ms\n",
      "988:\tlearn: 0.2126759\ttotal: 21.5s\tremaining: 239ms\n",
      "989:\tlearn: 0.2125930\ttotal: 21.5s\tremaining: 217ms\n",
      "990:\tlearn: 0.2125133\ttotal: 21.5s\tremaining: 196ms\n",
      "991:\tlearn: 0.2124323\ttotal: 21.6s\tremaining: 174ms\n",
      "992:\tlearn: 0.2124192\ttotal: 21.6s\tremaining: 152ms\n",
      "993:\tlearn: 0.2124096\ttotal: 21.6s\tremaining: 130ms\n",
      "994:\tlearn: 0.2123240\ttotal: 21.6s\tremaining: 109ms\n",
      "995:\tlearn: 0.2122175\ttotal: 21.6s\tremaining: 86.9ms\n",
      "996:\tlearn: 0.2119104\ttotal: 21.7s\tremaining: 65.2ms\n",
      "997:\tlearn: 0.2118778\ttotal: 21.7s\tremaining: 43.5ms\n",
      "998:\tlearn: 0.2117859\ttotal: 21.7s\tremaining: 21.7ms\n",
      "999:\tlearn: 0.2116250\ttotal: 21.7s\tremaining: 0us\n"
     ]
    }
   ],
   "source": [
    "cat_model = CatBoostClassifier().fit(X_train, y_train)"
   ]
  },
  {
   "cell_type": "code",
   "execution_count": 68,
   "metadata": {},
   "outputs": [
    {
     "data": {
      "text/plain": [
       "0.7532467532467533"
      ]
     },
     "execution_count": 68,
     "metadata": {},
     "output_type": "execute_result"
    }
   ],
   "source": [
    "y_pred = cat_model.predict(X_test)\n",
    "accuracy_score(y_test, y_pred)"
   ]
  },
  {
   "cell_type": "code",
   "execution_count": 69,
   "metadata": {},
   "outputs": [],
   "source": [
    "catb_params = {\n",
    "    \"iterations\": [200, 500],\n",
    "    \"learning_rate\": [0.01, 0.05, 0.1],\n",
    "    \"depth\": [3, 5, 8]\n",
    "}"
   ]
  },
  {
   "cell_type": "code",
   "execution_count": 74,
   "metadata": {},
   "outputs": [],
   "source": [
    "catb = CatBoostClassifier()\n",
    "catb_cv_models = GridSearchCV(catb, catb_params, cv = 10, n_jobs = -1, verbose = 2)"
   ]
  },
  {
   "cell_type": "code",
   "execution_count": 77,
   "metadata": {},
   "outputs": [
    {
     "name": "stdout",
     "output_type": "stream",
     "text": [
      "Fitting 10 folds for each of 18 candidates, totalling 180 fits\n"
     ]
    },
    {
     "name": "stderr",
     "output_type": "stream",
     "text": [
      "[Parallel(n_jobs=-1)]: Using backend LokyBackend with 8 concurrent workers.\n",
      "[Parallel(n_jobs=-1)]: Done  25 tasks      | elapsed:   53.3s\n",
      "[Parallel(n_jobs=-1)]: Done 146 tasks      | elapsed:  9.6min\n",
      "[Parallel(n_jobs=-1)]: Done 180 out of 180 | elapsed: 18.6min finished\n"
     ]
    },
    {
     "name": "stdout",
     "output_type": "stream",
     "text": [
      "0:\tlearn: 0.6620964\ttotal: 23.2ms\tremaining: 4.62s\n",
      "1:\tlearn: 0.6333577\ttotal: 44.5ms\tremaining: 4.41s\n",
      "2:\tlearn: 0.6119929\ttotal: 66.9ms\tremaining: 4.39s\n",
      "3:\tlearn: 0.5906310\ttotal: 87.4ms\tremaining: 4.28s\n",
      "4:\tlearn: 0.5726907\ttotal: 110ms\tremaining: 4.3s\n",
      "5:\tlearn: 0.5536001\ttotal: 133ms\tremaining: 4.29s\n",
      "6:\tlearn: 0.5355467\ttotal: 155ms\tremaining: 4.28s\n",
      "7:\tlearn: 0.5176388\ttotal: 177ms\tremaining: 4.25s\n",
      "8:\tlearn: 0.5030769\ttotal: 207ms\tremaining: 4.39s\n",
      "9:\tlearn: 0.4879854\ttotal: 234ms\tremaining: 4.46s\n",
      "10:\tlearn: 0.4780507\ttotal: 259ms\tremaining: 4.45s\n",
      "11:\tlearn: 0.4664802\ttotal: 281ms\tremaining: 4.4s\n",
      "12:\tlearn: 0.4546663\ttotal: 301ms\tremaining: 4.33s\n",
      "13:\tlearn: 0.4444078\ttotal: 322ms\tremaining: 4.27s\n",
      "14:\tlearn: 0.4361118\ttotal: 345ms\tremaining: 4.26s\n",
      "15:\tlearn: 0.4286422\ttotal: 366ms\tremaining: 4.21s\n",
      "16:\tlearn: 0.4244050\ttotal: 386ms\tremaining: 4.15s\n",
      "17:\tlearn: 0.4158148\ttotal: 406ms\tremaining: 4.11s\n",
      "18:\tlearn: 0.4076347\ttotal: 426ms\tremaining: 4.06s\n",
      "19:\tlearn: 0.4001058\ttotal: 450ms\tremaining: 4.05s\n",
      "20:\tlearn: 0.3920448\ttotal: 475ms\tremaining: 4.04s\n",
      "21:\tlearn: 0.3870396\ttotal: 495ms\tremaining: 4s\n",
      "22:\tlearn: 0.3806074\ttotal: 515ms\tremaining: 3.96s\n",
      "23:\tlearn: 0.3748563\ttotal: 533ms\tremaining: 3.91s\n",
      "24:\tlearn: 0.3698261\ttotal: 551ms\tremaining: 3.86s\n",
      "25:\tlearn: 0.3647739\ttotal: 570ms\tremaining: 3.81s\n",
      "26:\tlearn: 0.3599745\ttotal: 590ms\tremaining: 3.78s\n",
      "27:\tlearn: 0.3560148\ttotal: 608ms\tremaining: 3.73s\n",
      "28:\tlearn: 0.3525937\ttotal: 626ms\tremaining: 3.69s\n",
      "29:\tlearn: 0.3490764\ttotal: 651ms\tremaining: 3.69s\n",
      "30:\tlearn: 0.3447136\ttotal: 674ms\tremaining: 3.67s\n",
      "31:\tlearn: 0.3393893\ttotal: 699ms\tremaining: 3.67s\n",
      "32:\tlearn: 0.3344726\ttotal: 721ms\tremaining: 3.65s\n",
      "33:\tlearn: 0.3291717\ttotal: 746ms\tremaining: 3.64s\n",
      "34:\tlearn: 0.3240705\ttotal: 772ms\tremaining: 3.64s\n",
      "35:\tlearn: 0.3179228\ttotal: 794ms\tremaining: 3.62s\n",
      "36:\tlearn: 0.3144022\ttotal: 815ms\tremaining: 3.59s\n",
      "37:\tlearn: 0.3098385\ttotal: 844ms\tremaining: 3.6s\n",
      "38:\tlearn: 0.3070136\ttotal: 866ms\tremaining: 3.58s\n",
      "39:\tlearn: 0.3037034\ttotal: 891ms\tremaining: 3.56s\n",
      "40:\tlearn: 0.3014315\ttotal: 911ms\tremaining: 3.53s\n",
      "41:\tlearn: 0.2975776\ttotal: 931ms\tremaining: 3.5s\n",
      "42:\tlearn: 0.2945889\ttotal: 951ms\tremaining: 3.47s\n",
      "43:\tlearn: 0.2913635\ttotal: 967ms\tremaining: 3.43s\n",
      "44:\tlearn: 0.2887070\ttotal: 992ms\tremaining: 3.42s\n",
      "45:\tlearn: 0.2841726\ttotal: 1.01s\tremaining: 3.4s\n",
      "46:\tlearn: 0.2817563\ttotal: 1.03s\tremaining: 3.36s\n",
      "47:\tlearn: 0.2792797\ttotal: 1.05s\tremaining: 3.33s\n",
      "48:\tlearn: 0.2775975\ttotal: 1.07s\tremaining: 3.29s\n",
      "49:\tlearn: 0.2734642\ttotal: 1.08s\tremaining: 3.26s\n",
      "50:\tlearn: 0.2721506\ttotal: 1.1s\tremaining: 3.22s\n",
      "51:\tlearn: 0.2705288\ttotal: 1.12s\tremaining: 3.19s\n",
      "52:\tlearn: 0.2674279\ttotal: 1.14s\tremaining: 3.16s\n",
      "53:\tlearn: 0.2650755\ttotal: 1.16s\tremaining: 3.12s\n",
      "54:\tlearn: 0.2627412\ttotal: 1.18s\tremaining: 3.1s\n",
      "55:\tlearn: 0.2588724\ttotal: 1.2s\tremaining: 3.09s\n",
      "56:\tlearn: 0.2563547\ttotal: 1.22s\tremaining: 3.06s\n",
      "57:\tlearn: 0.2547144\ttotal: 1.24s\tremaining: 3.03s\n",
      "58:\tlearn: 0.2519182\ttotal: 1.26s\tremaining: 3.01s\n",
      "59:\tlearn: 0.2503844\ttotal: 1.27s\tremaining: 2.98s\n",
      "60:\tlearn: 0.2460558\ttotal: 1.29s\tremaining: 2.95s\n",
      "61:\tlearn: 0.2442149\ttotal: 1.31s\tremaining: 2.92s\n",
      "62:\tlearn: 0.2427165\ttotal: 1.33s\tremaining: 2.88s\n",
      "63:\tlearn: 0.2405812\ttotal: 1.34s\tremaining: 2.85s\n",
      "64:\tlearn: 0.2378107\ttotal: 1.36s\tremaining: 2.82s\n",
      "65:\tlearn: 0.2354334\ttotal: 1.38s\tremaining: 2.8s\n",
      "66:\tlearn: 0.2334055\ttotal: 1.4s\tremaining: 2.78s\n",
      "67:\tlearn: 0.2307231\ttotal: 1.42s\tremaining: 2.76s\n",
      "68:\tlearn: 0.2283823\ttotal: 1.44s\tremaining: 2.73s\n",
      "69:\tlearn: 0.2268481\ttotal: 1.46s\tremaining: 2.71s\n",
      "70:\tlearn: 0.2253297\ttotal: 1.48s\tremaining: 2.69s\n",
      "71:\tlearn: 0.2222512\ttotal: 1.5s\tremaining: 2.66s\n",
      "72:\tlearn: 0.2194630\ttotal: 1.51s\tremaining: 2.63s\n",
      "73:\tlearn: 0.2168230\ttotal: 1.53s\tremaining: 2.61s\n",
      "74:\tlearn: 0.2153185\ttotal: 1.55s\tremaining: 2.58s\n",
      "75:\tlearn: 0.2127961\ttotal: 1.57s\tremaining: 2.56s\n",
      "76:\tlearn: 0.2116029\ttotal: 1.59s\tremaining: 2.54s\n",
      "77:\tlearn: 0.2089059\ttotal: 1.61s\tremaining: 2.52s\n",
      "78:\tlearn: 0.2068727\ttotal: 1.63s\tremaining: 2.49s\n",
      "79:\tlearn: 0.2051176\ttotal: 1.64s\tremaining: 2.46s\n",
      "80:\tlearn: 0.2036477\ttotal: 1.66s\tremaining: 2.44s\n",
      "81:\tlearn: 0.2019842\ttotal: 1.68s\tremaining: 2.42s\n",
      "82:\tlearn: 0.1998922\ttotal: 1.7s\tremaining: 2.4s\n",
      "83:\tlearn: 0.1978257\ttotal: 1.72s\tremaining: 2.37s\n",
      "84:\tlearn: 0.1953262\ttotal: 1.73s\tremaining: 2.34s\n",
      "85:\tlearn: 0.1944993\ttotal: 1.75s\tremaining: 2.33s\n",
      "86:\tlearn: 0.1935351\ttotal: 1.77s\tremaining: 2.3s\n",
      "87:\tlearn: 0.1918879\ttotal: 1.79s\tremaining: 2.28s\n",
      "88:\tlearn: 0.1904708\ttotal: 1.81s\tremaining: 2.26s\n",
      "89:\tlearn: 0.1894440\ttotal: 1.83s\tremaining: 2.24s\n",
      "90:\tlearn: 0.1880480\ttotal: 1.85s\tremaining: 2.22s\n",
      "91:\tlearn: 0.1862110\ttotal: 1.87s\tremaining: 2.2s\n",
      "92:\tlearn: 0.1849979\ttotal: 1.89s\tremaining: 2.17s\n",
      "93:\tlearn: 0.1830927\ttotal: 1.91s\tremaining: 2.15s\n",
      "94:\tlearn: 0.1811848\ttotal: 1.92s\tremaining: 2.13s\n",
      "95:\tlearn: 0.1796990\ttotal: 1.94s\tremaining: 2.1s\n",
      "96:\tlearn: 0.1787069\ttotal: 1.96s\tremaining: 2.08s\n",
      "97:\tlearn: 0.1774151\ttotal: 1.98s\tremaining: 2.06s\n",
      "98:\tlearn: 0.1762650\ttotal: 2s\tremaining: 2.04s\n",
      "99:\tlearn: 0.1752109\ttotal: 2.01s\tremaining: 2.01s\n",
      "100:\tlearn: 0.1733006\ttotal: 2.03s\tremaining: 1.99s\n",
      "101:\tlearn: 0.1722059\ttotal: 2.05s\tremaining: 1.97s\n",
      "102:\tlearn: 0.1714004\ttotal: 2.06s\tremaining: 1.94s\n",
      "103:\tlearn: 0.1703761\ttotal: 2.08s\tremaining: 1.92s\n",
      "104:\tlearn: 0.1689916\ttotal: 2.1s\tremaining: 1.9s\n",
      "105:\tlearn: 0.1683025\ttotal: 2.11s\tremaining: 1.87s\n",
      "106:\tlearn: 0.1672563\ttotal: 2.13s\tremaining: 1.85s\n",
      "107:\tlearn: 0.1654486\ttotal: 2.15s\tremaining: 1.83s\n",
      "108:\tlearn: 0.1637177\ttotal: 2.18s\tremaining: 1.82s\n",
      "109:\tlearn: 0.1618250\ttotal: 2.2s\tremaining: 1.8s\n",
      "110:\tlearn: 0.1607723\ttotal: 2.22s\tremaining: 1.78s\n",
      "111:\tlearn: 0.1597981\ttotal: 2.24s\tremaining: 1.76s\n",
      "112:\tlearn: 0.1582386\ttotal: 2.25s\tremaining: 1.74s\n",
      "113:\tlearn: 0.1568729\ttotal: 2.27s\tremaining: 1.71s\n",
      "114:\tlearn: 0.1556042\ttotal: 2.29s\tremaining: 1.69s\n",
      "115:\tlearn: 0.1546304\ttotal: 2.31s\tremaining: 1.67s\n",
      "116:\tlearn: 0.1532765\ttotal: 2.33s\tremaining: 1.65s\n",
      "117:\tlearn: 0.1520394\ttotal: 2.34s\tremaining: 1.63s\n",
      "118:\tlearn: 0.1510940\ttotal: 2.37s\tremaining: 1.61s\n",
      "119:\tlearn: 0.1499536\ttotal: 2.38s\tremaining: 1.59s\n",
      "120:\tlearn: 0.1485088\ttotal: 2.4s\tremaining: 1.57s\n",
      "121:\tlearn: 0.1475214\ttotal: 2.42s\tremaining: 1.55s\n",
      "122:\tlearn: 0.1460470\ttotal: 2.44s\tremaining: 1.52s\n",
      "123:\tlearn: 0.1446746\ttotal: 2.45s\tremaining: 1.5s\n",
      "124:\tlearn: 0.1431020\ttotal: 2.47s\tremaining: 1.48s\n",
      "125:\tlearn: 0.1412917\ttotal: 2.49s\tremaining: 1.46s\n",
      "126:\tlearn: 0.1402670\ttotal: 2.51s\tremaining: 1.44s\n",
      "127:\tlearn: 0.1393764\ttotal: 2.53s\tremaining: 1.42s\n",
      "128:\tlearn: 0.1383203\ttotal: 2.55s\tremaining: 1.4s\n",
      "129:\tlearn: 0.1364066\ttotal: 2.56s\tremaining: 1.38s\n",
      "130:\tlearn: 0.1353196\ttotal: 2.58s\tremaining: 1.36s\n",
      "131:\tlearn: 0.1341019\ttotal: 2.6s\tremaining: 1.34s\n",
      "132:\tlearn: 0.1335377\ttotal: 2.61s\tremaining: 1.32s\n",
      "133:\tlearn: 0.1324704\ttotal: 2.63s\tremaining: 1.3s\n",
      "134:\tlearn: 0.1313346\ttotal: 2.65s\tremaining: 1.28s\n",
      "135:\tlearn: 0.1300976\ttotal: 2.67s\tremaining: 1.26s\n",
      "136:\tlearn: 0.1296314\ttotal: 2.69s\tremaining: 1.24s\n",
      "137:\tlearn: 0.1286210\ttotal: 2.71s\tremaining: 1.22s\n",
      "138:\tlearn: 0.1277516\ttotal: 2.73s\tremaining: 1.2s\n",
      "139:\tlearn: 0.1268743\ttotal: 2.75s\tremaining: 1.18s\n",
      "140:\tlearn: 0.1263940\ttotal: 2.77s\tremaining: 1.16s\n",
      "141:\tlearn: 0.1250611\ttotal: 2.79s\tremaining: 1.14s\n",
      "142:\tlearn: 0.1234833\ttotal: 2.81s\tremaining: 1.12s\n",
      "143:\tlearn: 0.1222953\ttotal: 2.82s\tremaining: 1.1s\n",
      "144:\tlearn: 0.1215643\ttotal: 2.84s\tremaining: 1.08s\n",
      "145:\tlearn: 0.1200664\ttotal: 2.86s\tremaining: 1.06s\n",
      "146:\tlearn: 0.1182724\ttotal: 2.88s\tremaining: 1.04s\n",
      "147:\tlearn: 0.1168638\ttotal: 2.9s\tremaining: 1.02s\n",
      "148:\tlearn: 0.1152897\ttotal: 2.92s\tremaining: 998ms\n",
      "149:\tlearn: 0.1142539\ttotal: 2.93s\tremaining: 978ms\n",
      "150:\tlearn: 0.1131028\ttotal: 2.95s\tremaining: 958ms\n",
      "151:\tlearn: 0.1121818\ttotal: 2.97s\tremaining: 937ms\n",
      "152:\tlearn: 0.1111178\ttotal: 2.98s\tremaining: 917ms\n",
      "153:\tlearn: 0.1098340\ttotal: 3s\tremaining: 896ms\n",
      "154:\tlearn: 0.1093141\ttotal: 3.02s\tremaining: 876ms\n",
      "155:\tlearn: 0.1082999\ttotal: 3.03s\tremaining: 856ms\n",
      "156:\tlearn: 0.1073211\ttotal: 3.05s\tremaining: 836ms\n",
      "157:\tlearn: 0.1066808\ttotal: 3.07s\tremaining: 816ms\n",
      "158:\tlearn: 0.1053176\ttotal: 3.09s\tremaining: 796ms\n",
      "159:\tlearn: 0.1045282\ttotal: 3.11s\tremaining: 777ms\n",
      "160:\tlearn: 0.1032053\ttotal: 3.13s\tremaining: 757ms\n",
      "161:\tlearn: 0.1028213\ttotal: 3.14s\tremaining: 738ms\n",
      "162:\tlearn: 0.1022049\ttotal: 3.16s\tremaining: 718ms\n",
      "163:\tlearn: 0.1014891\ttotal: 3.18s\tremaining: 698ms\n",
      "164:\tlearn: 0.1005511\ttotal: 3.2s\tremaining: 678ms\n",
      "165:\tlearn: 0.0998235\ttotal: 3.21s\tremaining: 659ms\n",
      "166:\tlearn: 0.0990881\ttotal: 3.23s\tremaining: 639ms\n",
      "167:\tlearn: 0.0981003\ttotal: 3.25s\tremaining: 620ms\n",
      "168:\tlearn: 0.0973647\ttotal: 3.27s\tremaining: 600ms\n"
     ]
    },
    {
     "name": "stdout",
     "output_type": "stream",
     "text": [
      "169:\tlearn: 0.0964971\ttotal: 3.3s\tremaining: 582ms\n",
      "170:\tlearn: 0.0958799\ttotal: 3.32s\tremaining: 563ms\n",
      "171:\tlearn: 0.0950261\ttotal: 3.33s\tremaining: 543ms\n",
      "172:\tlearn: 0.0945482\ttotal: 3.35s\tremaining: 523ms\n",
      "173:\tlearn: 0.0937952\ttotal: 3.37s\tremaining: 503ms\n",
      "174:\tlearn: 0.0929689\ttotal: 3.38s\tremaining: 484ms\n",
      "175:\tlearn: 0.0924483\ttotal: 3.4s\tremaining: 464ms\n",
      "176:\tlearn: 0.0915336\ttotal: 3.42s\tremaining: 444ms\n",
      "177:\tlearn: 0.0909579\ttotal: 3.44s\tremaining: 425ms\n",
      "178:\tlearn: 0.0902171\ttotal: 3.45s\tremaining: 405ms\n",
      "179:\tlearn: 0.0892598\ttotal: 3.47s\tremaining: 385ms\n",
      "180:\tlearn: 0.0887693\ttotal: 3.49s\tremaining: 366ms\n",
      "181:\tlearn: 0.0880288\ttotal: 3.51s\tremaining: 347ms\n",
      "182:\tlearn: 0.0872256\ttotal: 3.52s\tremaining: 327ms\n",
      "183:\tlearn: 0.0865016\ttotal: 3.54s\tremaining: 308ms\n",
      "184:\tlearn: 0.0861157\ttotal: 3.56s\tremaining: 288ms\n",
      "185:\tlearn: 0.0853829\ttotal: 3.57s\tremaining: 269ms\n",
      "186:\tlearn: 0.0849567\ttotal: 3.59s\tremaining: 250ms\n",
      "187:\tlearn: 0.0843678\ttotal: 3.61s\tremaining: 230ms\n",
      "188:\tlearn: 0.0837323\ttotal: 3.62s\tremaining: 211ms\n",
      "189:\tlearn: 0.0830631\ttotal: 3.64s\tremaining: 192ms\n",
      "190:\tlearn: 0.0823750\ttotal: 3.66s\tremaining: 172ms\n",
      "191:\tlearn: 0.0818710\ttotal: 3.68s\tremaining: 153ms\n",
      "192:\tlearn: 0.0812770\ttotal: 3.7s\tremaining: 134ms\n",
      "193:\tlearn: 0.0807250\ttotal: 3.72s\tremaining: 115ms\n",
      "194:\tlearn: 0.0797748\ttotal: 3.73s\tremaining: 95.8ms\n",
      "195:\tlearn: 0.0792775\ttotal: 3.75s\tremaining: 76.6ms\n",
      "196:\tlearn: 0.0789095\ttotal: 3.77s\tremaining: 57.4ms\n",
      "197:\tlearn: 0.0783349\ttotal: 3.79s\tremaining: 38.2ms\n",
      "198:\tlearn: 0.0777766\ttotal: 3.8s\tremaining: 19.1ms\n",
      "199:\tlearn: 0.0769220\ttotal: 3.82s\tremaining: 0us\n"
     ]
    },
    {
     "data": {
      "text/plain": [
       "GridSearchCV(cv=10, error_score='raise-deprecating',\n",
       "             estimator=<catboost.core.CatBoostClassifier object at 0x000002334D998160>,\n",
       "             iid='warn', n_jobs=-1,\n",
       "             param_grid={'depth': [3, 5, 8], 'iterations': [200, 500],\n",
       "                         'learning_rate': [0.01, 0.05, 0.1]},\n",
       "             pre_dispatch='2*n_jobs', refit=True, return_train_score=False,\n",
       "             scoring=None, verbose=2)"
      ]
     },
     "execution_count": 77,
     "metadata": {},
     "output_type": "execute_result"
    }
   ],
   "source": [
    "catb_cv_models.fit(X_train, y_train)"
   ]
  },
  {
   "cell_type": "code",
   "execution_count": 79,
   "metadata": {},
   "outputs": [
    {
     "data": {
      "text/plain": [
       "{'depth': 8, 'iterations': 200, 'learning_rate': 0.05}"
      ]
     },
     "execution_count": 79,
     "metadata": {},
     "output_type": "execute_result"
    }
   ],
   "source": [
    "catb_cv_models.best_params_"
   ]
  },
  {
   "cell_type": "code",
   "execution_count": 80,
   "metadata": {},
   "outputs": [
    {
     "name": "stdout",
     "output_type": "stream",
     "text": [
      "              precision    recall  f1-score   support\n",
      "\n",
      "           0       0.81      0.81      0.81       151\n",
      "           1       0.64      0.65      0.65        80\n",
      "\n",
      "    accuracy                           0.75       231\n",
      "   macro avg       0.73      0.73      0.73       231\n",
      "weighted avg       0.75      0.75      0.75       231\n",
      "\n"
     ]
    }
   ],
   "source": [
    "print (classification_report(y_test, y_pred))"
   ]
  },
  {
   "cell_type": "markdown",
   "metadata": {},
   "source": [
    "neural network - single ise ml multiple ise dl"
   ]
  },
  {
   "cell_type": "code",
   "execution_count": 86,
   "metadata": {},
   "outputs": [],
   "source": [
    "df=diabetes.copy()\n",
    "df=df.dropna()\n",
    "y=df[\"Outcome\"]\n",
    "X=df.drop([\"Outcome\"],axis=1)\n",
    "X=pd.DataFrame(X)"
   ]
  },
  {
   "cell_type": "code",
   "execution_count": 87,
   "metadata": {},
   "outputs": [],
   "source": [
    "from sklearn.preprocessing import StandardScaler"
   ]
  },
  {
   "cell_type": "code",
   "execution_count": 96,
   "metadata": {},
   "outputs": [],
   "source": [
    "scaler = StandardScaler()"
   ]
  },
  {
   "cell_type": "code",
   "execution_count": 97,
   "metadata": {},
   "outputs": [],
   "source": [
    "scaler.fit(X_train)\n",
    "X_train_scaled = scaler.transform(X_train)\n",
    "X_test_scaled = scaler.transform(X_test)"
   ]
  },
  {
   "cell_type": "code",
   "execution_count": 105,
   "metadata": {},
   "outputs": [
    {
     "data": {
      "text/plain": [
       "array([[ 0.69748316, -0.70719864, -0.64639893,  0.81207927,  0.95720244,\n",
       "         0.26575953, -0.11680393,  0.85019217],\n",
       "       [-0.52953881, -0.27388818,  0.29399563,  0.74746428, -0.6936878 ,\n",
       "         0.488933  , -0.94192338, -1.03426754],\n",
       "       [-0.52953881, -0.39769117, -0.31449497, -1.3202154 , -0.6936878 ,\n",
       "        -0.1543317 , -0.91266382, -1.03426754],\n",
       "       [ 1.31099414, -0.42864191,  0.57058226, -1.3202154 , -0.6936878 ,\n",
       "        -0.96825847,  1.12965312,  0.07927683],\n",
       "       [ 1.00423865,  0.46892976,  1.12375553, -1.3202154 , -0.6936878 ,\n",
       "        -0.27248236, -0.76051413,  1.44979298]])"
      ]
     },
     "execution_count": 105,
     "metadata": {},
     "output_type": "execute_result"
    }
   ],
   "source": [
    "X_test_scaled[:5]"
   ]
  },
  {
   "cell_type": "code",
   "execution_count": 98,
   "metadata": {},
   "outputs": [],
   "source": [
    "from sklearn.neural_network import MLPClassifier"
   ]
  },
  {
   "cell_type": "code",
   "execution_count": 99,
   "metadata": {},
   "outputs": [],
   "source": [
    "mlpc = MLPClassifier().fit(X_train_scaled, y_train)"
   ]
  },
  {
   "cell_type": "code",
   "execution_count": 100,
   "metadata": {},
   "outputs": [
    {
     "data": {
      "text/plain": [
       "MLPClassifier(activation='relu', alpha=0.0001, batch_size='auto', beta_1=0.9,\n",
       "              beta_2=0.999, early_stopping=False, epsilon=1e-08,\n",
       "              hidden_layer_sizes=(100,), learning_rate='constant',\n",
       "              learning_rate_init=0.001, max_iter=200, momentum=0.9,\n",
       "              n_iter_no_change=10, nesterovs_momentum=True, power_t=0.5,\n",
       "              random_state=None, shuffle=True, solver='adam', tol=0.0001,\n",
       "              validation_fraction=0.1, verbose=False, warm_start=False)"
      ]
     },
     "execution_count": 100,
     "metadata": {},
     "output_type": "execute_result"
    }
   ],
   "source": [
    "mlpc"
   ]
  },
  {
   "cell_type": "code",
   "execution_count": 101,
   "metadata": {},
   "outputs": [],
   "source": [
    "mlpc_params = {\"alpha\": [0.1, 0.01, 0.02, 0.005, 0.0001,0.00001],\n",
    "              \"hidden_layer_sizes\": [(10,10,10),\n",
    "                                     (100,100,100),\n",
    "                                     (100,100),\n",
    "                                     (3,5), \n",
    "                                     (5, 3)],\n",
    "              \"solver\" : [\"lbfgs\",\"adam\",\"sgd\"],\n",
    "              \"activation\": [\"relu\",\"logistic\"]}"
   ]
  },
  {
   "cell_type": "code",
   "execution_count": 102,
   "metadata": {},
   "outputs": [],
   "source": [
    "mlpc = MLPClassifier()\n",
    "mlpc_cv_models = GridSearchCV(mlpc, mlpc_params, cv = 10, n_jobs = -1, verbose = 2)"
   ]
  },
  {
   "cell_type": "code",
   "execution_count": 103,
   "metadata": {},
   "outputs": [
    {
     "name": "stdout",
     "output_type": "stream",
     "text": [
      "Fitting 10 folds for each of 180 candidates, totalling 1800 fits\n"
     ]
    },
    {
     "name": "stderr",
     "output_type": "stream",
     "text": [
      "[Parallel(n_jobs=-1)]: Using backend LokyBackend with 8 concurrent workers.\n",
      "[Parallel(n_jobs=-1)]: Done  25 tasks      | elapsed:    4.5s\n",
      "[Parallel(n_jobs=-1)]: Done 146 tasks      | elapsed:   14.4s\n",
      "[Parallel(n_jobs=-1)]: Done 349 tasks      | elapsed:   30.9s\n",
      "[Parallel(n_jobs=-1)]: Done 632 tasks      | elapsed:   50.2s\n",
      "[Parallel(n_jobs=-1)]: Done 997 tasks      | elapsed:  1.5min\n",
      "[Parallel(n_jobs=-1)]: Done 1442 tasks      | elapsed:  2.4min\n",
      "[Parallel(n_jobs=-1)]: Done 1800 out of 1800 | elapsed:  3.0min finished\n"
     ]
    },
    {
     "data": {
      "text/plain": [
       "GridSearchCV(cv=10, error_score='raise-deprecating',\n",
       "             estimator=MLPClassifier(activation='relu', alpha=0.0001,\n",
       "                                     batch_size='auto', beta_1=0.9,\n",
       "                                     beta_2=0.999, early_stopping=False,\n",
       "                                     epsilon=1e-08, hidden_layer_sizes=(100,),\n",
       "                                     learning_rate='constant',\n",
       "                                     learning_rate_init=0.001, max_iter=200,\n",
       "                                     momentum=0.9, n_iter_no_change=10,\n",
       "                                     nesterovs_momentum=True, power_t=0.5,\n",
       "                                     random_st...\n",
       "                                     validation_fraction=0.1, verbose=False,\n",
       "                                     warm_start=False),\n",
       "             iid='warn', n_jobs=-1,\n",
       "             param_grid={'activation': ['relu', 'logistic'],\n",
       "                         'alpha': [0.1, 0.01, 0.02, 0.005, 0.0001, 1e-05],\n",
       "                         'hidden_layer_sizes': [(10, 10, 10), (100, 100, 100),\n",
       "                                                (100, 100), (3, 5), (5, 3)],\n",
       "                         'solver': ['lbfgs', 'adam', 'sgd']},\n",
       "             pre_dispatch='2*n_jobs', refit=True, return_train_score=False,\n",
       "             scoring=None, verbose=2)"
      ]
     },
     "execution_count": 103,
     "metadata": {},
     "output_type": "execute_result"
    }
   ],
   "source": [
    "mlpc_cv_models.fit(X_train_scaled, y_train)"
   ]
  },
  {
   "cell_type": "code",
   "execution_count": 104,
   "metadata": {},
   "outputs": [
    {
     "name": "stdout",
     "output_type": "stream",
     "text": [
      "Fitting 10 folds for each of 180 candidates, totalling 1800 fits\n"
     ]
    },
    {
     "name": "stderr",
     "output_type": "stream",
     "text": [
      "[Parallel(n_jobs=-1)]: Using backend LokyBackend with 8 concurrent workers.\n",
      "[Parallel(n_jobs=-1)]: Done  25 tasks      | elapsed:    1.8s\n",
      "[Parallel(n_jobs=-1)]: Done 146 tasks      | elapsed:   25.7s\n",
      "[Parallel(n_jobs=-1)]: Done 349 tasks      | elapsed:  1.0min\n",
      "[Parallel(n_jobs=-1)]: Done 632 tasks      | elapsed:  1.7min\n",
      "[Parallel(n_jobs=-1)]: Done 997 tasks      | elapsed:  2.6min\n",
      "[Parallel(n_jobs=-1)]: Done 1442 tasks      | elapsed:  3.3min\n",
      "[Parallel(n_jobs=-1)]: Done 1800 out of 1800 | elapsed:  3.9min finished\n"
     ]
    },
    {
     "data": {
      "text/plain": [
       "GridSearchCV(cv=10, error_score='raise-deprecating',\n",
       "             estimator=MLPClassifier(activation='relu', alpha=0.0001,\n",
       "                                     batch_size='auto', beta_1=0.9,\n",
       "                                     beta_2=0.999, early_stopping=False,\n",
       "                                     epsilon=1e-08, hidden_layer_sizes=(100,),\n",
       "                                     learning_rate='constant',\n",
       "                                     learning_rate_init=0.001, max_iter=200,\n",
       "                                     momentum=0.9, n_iter_no_change=10,\n",
       "                                     nesterovs_momentum=True, power_t=0.5,\n",
       "                                     random_st...\n",
       "                                     validation_fraction=0.1, verbose=False,\n",
       "                                     warm_start=False),\n",
       "             iid='warn', n_jobs=-1,\n",
       "             param_grid={'activation': ['relu', 'logistic'],\n",
       "                         'alpha': [0.1, 0.01, 0.02, 0.005, 0.0001, 1e-05],\n",
       "                         'hidden_layer_sizes': [(10, 10, 10), (100, 100, 100),\n",
       "                                                (100, 100), (3, 5), (5, 3)],\n",
       "                         'solver': ['lbfgs', 'adam', 'sgd']},\n",
       "             pre_dispatch='2*n_jobs', refit=True, return_train_score=False,\n",
       "             scoring=None, verbose=2)"
      ]
     },
     "execution_count": 104,
     "metadata": {},
     "output_type": "execute_result"
    }
   ],
   "source": [
    "mlpc_cv_models.fit(X_train_scaled, y_train)"
   ]
  },
  {
   "cell_type": "code",
   "execution_count": 106,
   "metadata": {},
   "outputs": [
    {
     "name": "stdout",
     "output_type": "stream",
     "text": [
      "En iyi parametreler: {'activation': 'logistic', 'alpha': 0.005, 'hidden_layer_sizes': (100, 100), 'solver': 'adam'}\n"
     ]
    }
   ],
   "source": [
    "print(\"En iyi parametreler: \" + str(mlpc_cv_models.best_params_))"
   ]
  },
  {
   "cell_type": "code",
   "execution_count": 133,
   "metadata": {},
   "outputs": [],
   "source": [
    "#mlpc_turned = MLPClassifier(activation = \"relu\", alpha = 0.1, hidden_layer_sizes = (100, 100, 100), solver = \"sgd\")"
   ]
  },
  {
   "cell_type": "code",
   "execution_count": 134,
   "metadata": {},
   "outputs": [],
   "source": [
    "mlpc_turned = MLPClassifier(activation = \"logistic\", alpha = 0.005, hidden_layer_sizes = (100, 100), solver = \"adam\")"
   ]
  },
  {
   "cell_type": "code",
   "execution_count": 135,
   "metadata": {},
   "outputs": [
    {
     "data": {
      "text/plain": [
       "MLPClassifier(activation='logistic', alpha=0.005, batch_size='auto', beta_1=0.9,\n",
       "              beta_2=0.999, early_stopping=False, epsilon=1e-08,\n",
       "              hidden_layer_sizes=(100, 100), learning_rate='constant',\n",
       "              learning_rate_init=0.001, max_iter=200, momentum=0.9,\n",
       "              n_iter_no_change=10, nesterovs_momentum=True, power_t=0.5,\n",
       "              random_state=None, shuffle=True, solver='adam', tol=0.0001,\n",
       "              validation_fraction=0.1, verbose=False, warm_start=False)"
      ]
     },
     "execution_count": 135,
     "metadata": {},
     "output_type": "execute_result"
    }
   ],
   "source": [
    "mlpc_turned.fit(X_train_scaled, y_train)"
   ]
  },
  {
   "cell_type": "code",
   "execution_count": 129,
   "metadata": {},
   "outputs": [
    {
     "data": {
      "text/plain": [
       "0.7532467532467533"
      ]
     },
     "execution_count": 129,
     "metadata": {},
     "output_type": "execute_result"
    }
   ],
   "source": [
    "accuracy_score(y_test, y_pred)"
   ]
  },
  {
   "cell_type": "code",
   "execution_count": 130,
   "metadata": {},
   "outputs": [],
   "source": [
    "y_pred = mlpc_turned.predict(X_test_scaled)"
   ]
  },
  {
   "cell_type": "code",
   "execution_count": 132,
   "metadata": {},
   "outputs": [
    {
     "data": {
      "text/plain": [
       "0.7402597402597403"
      ]
     },
     "execution_count": 132,
     "metadata": {},
     "output_type": "execute_result"
    }
   ],
   "source": [
    "accuracy_score(y_test, y_pred)"
   ]
  },
  {
   "cell_type": "markdown",
   "metadata": {},
   "source": [
    "support vector machine (svm) / support vector regression (svr)"
   ]
  },
  {
   "cell_type": "markdown",
   "metadata": {},
   "source": [
    "doğrusal svm = maksimum margin yakalamaya çalışıyoruz"
   ]
  },
  {
   "cell_type": "code",
   "execution_count": 136,
   "metadata": {},
   "outputs": [],
   "source": [
    "svm_model = SVC(kernel = \"linear\").fit(X_train, y_train)"
   ]
  },
  {
   "cell_type": "code",
   "execution_count": 137,
   "metadata": {},
   "outputs": [
    {
     "data": {
      "text/plain": [
       "SVC(C=1.0, cache_size=200, class_weight=None, coef0=0.0,\n",
       "    decision_function_shape='ovr', degree=3, gamma='auto_deprecated',\n",
       "    kernel='linear', max_iter=-1, probability=False, random_state=None,\n",
       "    shrinking=True, tol=0.001, verbose=False)"
      ]
     },
     "execution_count": 137,
     "metadata": {},
     "output_type": "execute_result"
    }
   ],
   "source": [
    "svm_model"
   ]
  },
  {
   "cell_type": "code",
   "execution_count": 139,
   "metadata": {},
   "outputs": [],
   "source": [
    "y_pred = svm_model.predict(X_test)"
   ]
  },
  {
   "cell_type": "code",
   "execution_count": 140,
   "metadata": {},
   "outputs": [
    {
     "data": {
      "text/plain": [
       "0.7445887445887446"
      ]
     },
     "execution_count": 140,
     "metadata": {},
     "output_type": "execute_result"
    }
   ],
   "source": [
    "accuracy_score(y_test, y_pred)"
   ]
  },
  {
   "cell_type": "code",
   "execution_count": null,
   "metadata": {},
   "outputs": [
    {
     "name": "stdout",
     "output_type": "stream",
     "text": [
      "Fitting 10 folds for each of 9 candidates, totalling 90 fits\n"
     ]
    },
    {
     "name": "stderr",
     "output_type": "stream",
     "text": [
      "[Parallel(n_jobs=-1)]: Using backend LokyBackend with 8 concurrent workers.\n",
      "[Parallel(n_jobs=-1)]: Done  25 tasks      | elapsed:   54.7s\n"
     ]
    }
   ],
   "source": [
    "svc_params = {\"C\": np.arange(1,10)}\n",
    "svc = SVC(kernel = \"linear\")\n",
    "svc_cv_model = GridSearchCV(svc, svc_params, cv = 10, n_jobs = -1, verbose = 2)\n",
    "\n",
    "svc_cv_model.fit(X_train, y_train)"
   ]
  },
  {
   "cell_type": "code",
   "execution_count": null,
   "metadata": {},
   "outputs": [],
   "source": [
    "print(\"En iyi parametreler: \" + str(svc_cv_model.best_params_))"
   ]
  },
  {
   "cell_type": "code",
   "execution_count": null,
   "metadata": {},
   "outputs": [],
   "source": []
  }
 ],
 "metadata": {
  "kernelspec": {
   "display_name": "Python 3",
   "language": "python",
   "name": "python3"
  },
  "language_info": {
   "codemirror_mode": {
    "name": "ipython",
    "version": 3
   },
   "file_extension": ".py",
   "mimetype": "text/x-python",
   "name": "python",
   "nbconvert_exporter": "python",
   "pygments_lexer": "ipython3",
   "version": "3.7.3"
  }
 },
 "nbformat": 4,
 "nbformat_minor": 2
}
